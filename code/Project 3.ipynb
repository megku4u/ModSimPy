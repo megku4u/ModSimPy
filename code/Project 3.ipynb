{
 "cells": [
  {
   "cell_type": "markdown",
   "metadata": {},
   "source": [
    "# Santa Claus the Engineer!"
   ]
  },
  {
   "cell_type": "markdown",
   "metadata": {},
   "source": [
    "By: Megan Ku and Katie Gosbee"
   ]
  },
  {
   "cell_type": "code",
   "execution_count": 1,
   "metadata": {},
   "outputs": [],
   "source": [
    "# Configure Jupyter so figures appear in the notebook\n",
    "%matplotlib inline\n",
    "\n",
    "# Configure Jupyter to display the assigned value after an assignment\n",
    "%config InteractiveShell.ast_node_interactivity='last_expr_or_assign'\n",
    "\n",
    "# import functions from the modsim.py module\n",
    "from modsim import *\n",
    "import matplotlib.pyplot as plt\n",
    "import matplotlib.image as mpimg"
   ]
  },
  {
   "cell_type": "markdown",
   "metadata": {},
   "source": [
    "## Question:\n",
    "\n",
    "Suppose Santa is trying to speed up the already quick present-giving process on Christmas Eve. Instead of going to the roof of every building on Olin's campus, he decides to land on West Hall and launch all his presents to the tops of the other four buildings. He has a launcher that can launch presents at any velocity and angle that he desires (because Santa is an engineer). He is designing his launcher and needs to know which is a reasonable design that'll get the job done. He is debating between a launcher that uses a spring and a launcher with motors (refer to images below).\n",
    "\n",
    "\n",
    "After finding the angle and final velocity that will optimize Santa's needed force to launch his presents to all the other campus buildings, should Santa use a spring powered launcher or a launcher with motors?"
   ]
  },
  {
   "cell_type": "code",
   "execution_count": 2,
   "metadata": {},
   "outputs": [
    {
     "ename": "FileNotFoundError",
     "evalue": "[Errno 2] No such file or directory: 'Launcher1.png'",
     "output_type": "error",
     "traceback": [
      "\u001b[1;31m---------------------------------------------------------------------------\u001b[0m",
      "\u001b[1;31mFileNotFoundError\u001b[0m                         Traceback (most recent call last)",
      "\u001b[1;32m<ipython-input-2-ef25f41445da>\u001b[0m in \u001b[0;36m<module>\u001b[1;34m()\u001b[0m\n\u001b[0;32m      1\u001b[0m \u001b[0mplt\u001b[0m\u001b[1;33m.\u001b[0m\u001b[0mfigure\u001b[0m\u001b[1;33m(\u001b[0m\u001b[0mfigsize\u001b[0m\u001b[1;33m=\u001b[0m\u001b[1;33m(\u001b[0m\u001b[1;36m4\u001b[0m\u001b[1;33m,\u001b[0m\u001b[1;36m4\u001b[0m\u001b[1;33m)\u001b[0m\u001b[1;33m)\u001b[0m\u001b[1;33m\u001b[0m\u001b[0m\n\u001b[1;32m----> 2\u001b[1;33m \u001b[0mmyImage\u001b[0m \u001b[1;33m=\u001b[0m \u001b[0mmpimg\u001b[0m\u001b[1;33m.\u001b[0m\u001b[0mimread\u001b[0m\u001b[1;33m(\u001b[0m\u001b[1;34m\"Launcher1.png\"\u001b[0m\u001b[1;33m)\u001b[0m\u001b[1;33m\u001b[0m\u001b[0m\n\u001b[0m\u001b[0;32m      3\u001b[0m \u001b[0mmyImage\u001b[0m \u001b[1;33m=\u001b[0m \u001b[0mplt\u001b[0m\u001b[1;33m.\u001b[0m\u001b[0mimshow\u001b[0m\u001b[1;33m(\u001b[0m\u001b[0mmyImage\u001b[0m\u001b[1;33m)\u001b[0m\u001b[1;33m\u001b[0m\u001b[0m\n\u001b[0;32m      4\u001b[0m \u001b[0mplt\u001b[0m\u001b[1;33m.\u001b[0m\u001b[0maxis\u001b[0m\u001b[1;33m(\u001b[0m\u001b[1;34m'off'\u001b[0m\u001b[1;33m)\u001b[0m\u001b[1;33m\u001b[0m\u001b[0m\n\u001b[0;32m      5\u001b[0m \u001b[0mplt\u001b[0m\u001b[1;33m.\u001b[0m\u001b[0mshow\u001b[0m\u001b[1;33m(\u001b[0m\u001b[1;33m)\u001b[0m\u001b[1;33m\u001b[0m\u001b[0m\n",
      "\u001b[1;32mC:\\Miniconda3\\lib\\site-packages\\matplotlib\\image.py\u001b[0m in \u001b[0;36mimread\u001b[1;34m(fname, format)\u001b[0m\n\u001b[0;32m   1374\u001b[0m             \u001b[1;32mreturn\u001b[0m \u001b[0mhandler\u001b[0m\u001b[1;33m(\u001b[0m\u001b[0mfd\u001b[0m\u001b[1;33m)\u001b[0m\u001b[1;33m\u001b[0m\u001b[0m\n\u001b[0;32m   1375\u001b[0m         \u001b[1;32melse\u001b[0m\u001b[1;33m:\u001b[0m\u001b[1;33m\u001b[0m\u001b[0m\n\u001b[1;32m-> 1376\u001b[1;33m             \u001b[1;32mwith\u001b[0m \u001b[0mopen\u001b[0m\u001b[1;33m(\u001b[0m\u001b[0mfname\u001b[0m\u001b[1;33m,\u001b[0m \u001b[1;34m'rb'\u001b[0m\u001b[1;33m)\u001b[0m \u001b[1;32mas\u001b[0m \u001b[0mfd\u001b[0m\u001b[1;33m:\u001b[0m\u001b[1;33m\u001b[0m\u001b[0m\n\u001b[0m\u001b[0;32m   1377\u001b[0m                 \u001b[1;32mreturn\u001b[0m \u001b[0mhandler\u001b[0m\u001b[1;33m(\u001b[0m\u001b[0mfd\u001b[0m\u001b[1;33m)\u001b[0m\u001b[1;33m\u001b[0m\u001b[0m\n\u001b[0;32m   1378\u001b[0m     \u001b[1;32melse\u001b[0m\u001b[1;33m:\u001b[0m\u001b[1;33m\u001b[0m\u001b[0m\n",
      "\u001b[1;31mFileNotFoundError\u001b[0m: [Errno 2] No such file or directory: 'Launcher1.png'"
     ]
    },
    {
     "data": {
      "text/plain": [
       "<Figure size 288x288 with 0 Axes>"
      ]
     },
     "metadata": {},
     "output_type": "display_data"
    }
   ],
   "source": [
    "plt.figure(figsize=(4,4))\n",
    "myImage = mpimg.imread(\"Launcher1.png\")\n",
    "myImage = plt.imshow(myImage)\n",
    "plt.axis('off')\n",
    "plt.show()\n",
    "print('Spring Launcher')\n",
    "plt.figure(figsize=(4,4))\n",
    "myImage = mpimg.imread(\"Launcher2.png\")\n",
    "myImage = plt.imshow(myImage)\n",
    "plt.axis('off')\n",
    "plt.show()\n",
    "print('Mechanical Launcher')"
   ]
  },
  {
   "cell_type": "code",
   "execution_count": null,
   "metadata": {},
   "outputs": [],
   "source": [
    "#define units\n",
    "\n",
    "m = UNITS.meter\n",
    "s = UNITS.second\n",
    "kg = UNITS.kilogram\n",
    "feet = UNITS.feet\n",
    "inch = UNITS.inch\n",
    "degree = UNITS.degree\n",
    "N = UNITS.newton;"
   ]
  },
  {
   "cell_type": "markdown",
   "metadata": {},
   "source": [
    "Here are the heights of Olin's five buildings, according to the building plans. We decided to set the elevation of West Hall as our origin to provide clarity.  We made sure that the buildings' heights are based off of the elevation levels, using the building plans.\n",
    "\n",
    "The distances we found are based off of the points on the buildings where we identified the elevation.  Since there were no identifiable \"chimneys\" on Olin's buildings, we assume that any point on the roof would be considered a succesful delivery. From there we picked specific points on the roofs of the buildings and measured elevation and distance from those points.\n",
    "\n",
    "*Note: any variables pertaining to a building are assigned as \"variable_building\"*"
   ]
  },
  {
   "cell_type": "code",
   "execution_count": null,
   "metadata": {},
   "outputs": [],
   "source": [
    "height_WH = (229.031*feet + 1.625*inch).to(m) \n",
    "\n",
    "height_EH = (224.306*feet).to(m) - height_WH \n",
    "height_CC = (257.33*feet).to(m) - height_WH \n",
    "height_MH = (243.33*feet).to(m) - height_WH \n",
    "height_AC =  (262*feet).to(m) - height_WH "
   ]
  },
  {
   "cell_type": "markdown",
   "metadata": {},
   "source": [
    "... and the approximate distances between West Hall and the other four buildings (estimated using Google Maps)."
   ]
  },
  {
   "cell_type": "code",
   "execution_count": null,
   "metadata": {},
   "outputs": [],
   "source": [
    "to_EH = 75.84*m\n",
    "to_MH = 70.04*m\n",
    "to_AC = 121.94*m\n",
    "to_CC = 28.48*m;"
   ]
  },
  {
   "cell_type": "markdown",
   "metadata": {},
   "source": [
    "Now we need to create \"params\" and our System variable.  We'll start off by assuming Santa's launcher launches presents at a speed of 40m/s.\n",
    "\n",
    "We decided to use cube-shaped presents that were 1ft in length.  We used Amazon to get an estimate of the size of the most popular presents were for 2018.\n",
    "\n",
    "We also assume that there is no wind blowing and that there are no other projectiles or obstacles in the way of the trajectory path, like snow fall."
   ]
  },
  {
   "cell_type": "code",
   "execution_count": 3,
   "metadata": {},
   "outputs": [
    {
     "ename": "NameError",
     "evalue": "name 'm' is not defined",
     "output_type": "error",
     "traceback": [
      "\u001b[1;31m---------------------------------------------------------------------------\u001b[0m",
      "\u001b[1;31mNameError\u001b[0m                                 Traceback (most recent call last)",
      "\u001b[1;32m<ipython-input-3-d1ec6ae835b7>\u001b[0m in \u001b[0;36m<module>\u001b[1;34m()\u001b[0m\n\u001b[0;32m      1\u001b[0m \u001b[1;31m#create parameters\u001b[0m\u001b[1;33m\u001b[0m\u001b[1;33m\u001b[0m\u001b[0m\n\u001b[1;32m----> 2\u001b[1;33m params = Params(x = 0 * m, \n\u001b[0m\u001b[0;32m      3\u001b[0m                 \u001b[0my\u001b[0m \u001b[1;33m=\u001b[0m \u001b[1;36m0\u001b[0m \u001b[1;33m*\u001b[0m \u001b[0mm\u001b[0m\u001b[1;33m,\u001b[0m\u001b[1;33m\u001b[0m\u001b[0m\n\u001b[0;32m      4\u001b[0m                 \u001b[0mg\u001b[0m \u001b[1;33m=\u001b[0m \u001b[1;36m9.81\u001b[0m \u001b[1;33m*\u001b[0m \u001b[0mm\u001b[0m\u001b[1;33m/\u001b[0m\u001b[0ms\u001b[0m\u001b[1;33m**\u001b[0m\u001b[1;36m2\u001b[0m\u001b[1;33m,\u001b[0m\u001b[1;33m\u001b[0m\u001b[0m\n\u001b[0;32m      5\u001b[0m                 \u001b[0mmass\u001b[0m \u001b[1;33m=\u001b[0m \u001b[1;36m1.0206\u001b[0m \u001b[1;33m*\u001b[0m \u001b[0mkg\u001b[0m\u001b[1;33m,\u001b[0m\u001b[1;33m\u001b[0m\u001b[0m\n",
      "\u001b[1;31mNameError\u001b[0m: name 'm' is not defined"
     ]
    }
   ],
   "source": [
    "#create parameters\n",
    "params = Params(x = 0 * m, \n",
    "                y = 0 * m,\n",
    "                g = 9.81 * m/s**2,\n",
    "                mass = 1.0206 * kg,\n",
    "                height = 0.3048 * m,\n",
    "                length = 0.3048 * m,\n",
    "                width = 0.3048 * m,\n",
    "                rho = 1.2 * kg/m**3,\n",
    "                C_d = 0.8,\n",
    "                angle = 45 * degree,\n",
    "                velocity = 40 * m / s,\n",
    "                t_end = 100*s,\n",
    "                h_end = 0*m,\n",
    "                d_end = 10*m)"
   ]
  },
  {
   "cell_type": "markdown",
   "metadata": {},
   "source": [
    "Now, we'll write functions that will create the system object, calculate the force of drag on the present, and compute the derivates of the state variables (like velocity and acceleration)."
   ]
  },
  {
   "cell_type": "code",
   "execution_count": null,
   "metadata": {},
   "outputs": [],
   "source": [
    "#create our system object\n",
    "\n",
    "def make_system(params):\n",
    "    \"\"\"Make a system object.\n",
    "    \n",
    "    params: Params object with angle, velocity, x, y,\n",
    "               diameter, duration, g, mass, rho, and C_d\n",
    "               \n",
    "    returns: System object\n",
    "    \"\"\"\n",
    "    unpack(params)\n",
    "    \n",
    "    # convert angle to degrees\n",
    "    theta = np.deg2rad(angle)\n",
    "    \n",
    "    # compute x and y components of velocity\n",
    "    vx, vy = pol2cart(theta, velocity)\n",
    "    \n",
    "    # make the initial state\n",
    "    init = State(x=x, y=y, vx=vx, vy=vy)\n",
    "    \n",
    "    # compute area from dimensions\n",
    "    area = height*length\n",
    "    \n",
    "    return System(params, init=init, area=area)"
   ]
  },
  {
   "cell_type": "markdown",
   "metadata": {},
   "source": [
    "We also wrote drag and slope functions to update forces as the present moved through the air.\n",
    "\n",
    "Drag force is calculated using the equation $(\\rho * v^2 * C_d * \\frac{area}{2})$.  We add a negative sign in from of the equation to make the force in the opposite direction of velocity.\n",
    "\n",
    "*slope_func* calculates the current net acceleration of the system.  Using the equation $F=ma$ and the force due to gravity, $g$, the function updates the individual accelerations for gravity and drag before summing them. We assume that the present doesn't rotate to simplify the model.  We wanted to focus mainly on drag, similar to the Manny Ramirez problem. "
   ]
  },
  {
   "cell_type": "code",
   "execution_count": null,
   "metadata": {},
   "outputs": [],
   "source": [
    "def drag_force(V, system):\n",
    "    \"\"\"Computes drag force in the opposite direction of `V`.\n",
    "    \n",
    "    V: velocity\n",
    "    system: System object with rho, C_d, area\n",
    "    \n",
    "    returns: Vector drag force\n",
    "    \"\"\"\n",
    "    unpack(system)\n",
    "    mag = -rho * V.mag**2 * C_d * area / 2\n",
    "    direction = V.hat()\n",
    "    f_drag = mag * direction\n",
    "    return f_drag"
   ]
  },
  {
   "cell_type": "code",
   "execution_count": null,
   "metadata": {},
   "outputs": [],
   "source": [
    "def slope_func(state, t, system):\n",
    "    \"\"\"Computes derivatives of the state variables.\n",
    "    \n",
    "    state: State (x, y, x velocity, y velocity)\n",
    "    t: time\n",
    "    system: System object with g, rho, C_d, area, mass\n",
    "    \n",
    "    returns: sequence (vx, vy, ax, ay)\n",
    "    \"\"\"\n",
    "    x, y, vx, vy = state\n",
    "    unpack(system)\n",
    "\n",
    "    V = Vector(vx, vy)    \n",
    "    a_drag = drag_force(V, system) / mass\n",
    "    a_grav = Vector(0, -g)\n",
    "    \n",
    "    a = a_grav + a_drag\n",
    "    \n",
    "    return vx, vy, a.x, a.y"
   ]
  },
  {
   "cell_type": "markdown",
   "metadata": {},
   "source": [
    "Next, we implement the measured data of the buildings and figure out what the optimal speed and angle are for Santa if he launched presents from West Hall to the other four buildings on campus. First, we'll create new *params* objects for each building in relation to West Hall."
   ]
  },
  {
   "cell_type": "code",
   "execution_count": null,
   "metadata": {},
   "outputs": [],
   "source": [
    "params_EH = Params(params, h_end=height_EH, d_end=to_EH);\n",
    "params_MH = Params(params, h_end=height_MH, d_end=to_MH);\n",
    "params_AC = Params(params, h_end=height_AC, d_end=to_AC);\n",
    "params_CC = Params(params, h_end=height_CC, d_end=to_CC);"
   ]
  },
  {
   "cell_type": "markdown",
   "metadata": {},
   "source": [
    "We created *event_func*, which stops the solver when the projectile reaches the building. Then we wrote *height_func*, which calculates the height of the projectile when the it reaches the building."
   ]
  },
  {
   "cell_type": "code",
   "execution_count": null,
   "metadata": {},
   "outputs": [],
   "source": [
    "def event_func(state, t, system):\n",
    "    \"\"\"Stop when the x coordinate is zero.\n",
    "        When the object reaches the desired horizontal distance, the solver will end.\n",
    "    \n",
    "    state: State object\n",
    "    t: time\n",
    "    system: System object\n",
    "    \n",
    "    returns: x coordinate\n",
    "    \"\"\"\n",
    "    unpack(system)\n",
    "    x, y, vx, vy = state\n",
    "    return x-d_end\n",
    "\n",
    "def height_func(angle, params):  \n",
    "    \"\"\"Computes height for a given launch angle.\n",
    "    \n",
    "    angle: launch angle in degrees\n",
    "    params: Params object\n",
    "    \n",
    "    returns: height in meters\n",
    "    \"\"\"\n",
    "    params = Params(params, angle=angle)\n",
    "    system = make_system(params)\n",
    "    results, details = run_ode_solver(system, slope_func, events=event_func)\n",
    "    y_dist = get_last_value(results.y) * m\n",
    "    return y_dist"
   ]
  },
  {
   "cell_type": "code",
   "execution_count": null,
   "metadata": {},
   "outputs": [],
   "source": [
    "#testing the height function to see if it works using hand-calculated values\n",
    "height_func(38.59*degree, Params(params_EH, velocity = 48.9*m/s))"
   ]
  },
  {
   "cell_type": "markdown",
   "metadata": {},
   "source": [
    "We then created an *error_func* to calculate the difference between the final height of the projectile and the height of the building.  Since we wanted to save the measure of the angle at which the projectile was launched without explicitly returning it, we assign the angle measure to the **global** variable *opt_angle*. "
   ]
  },
  {
   "cell_type": "code",
   "execution_count": null,
   "metadata": {},
   "outputs": [],
   "source": [
    "opt_angle = 45*degree\n",
    "'''\n",
    "opt_angle is a global variable. \n",
    "\n",
    "We are using it to temporarily store the optimal angle value so we can run the simulation of the present's trajectory\n",
    "    after we solve for the optimal velocity.\n",
    "'''\n",
    "\n",
    "def error_func(v, params):\n",
    "    \"\"\"Finds the difference between the current height and the building height.\n",
    "    \n",
    "    v: Velocity variable\n",
    "    params: Params object\n",
    "    \n",
    "    returns: difference in height in meters\n",
    "    \"\"\"\n",
    "    \n",
    "    this_params = Params(params, velocity=v)\n",
    "    optimal_height = max_bounded(height_func, [0,90], this_params)\n",
    "    global opt_angle\n",
    "    opt_angle = optimal_height.x*degree\n",
    "    height = optimal_height.fun\n",
    "    return height - params.h_end"
   ]
  },
  {
   "cell_type": "markdown",
   "metadata": {},
   "source": [
    "Now we calculate the optimal angle and velocity using *fsolve*."
   ]
  },
  {
   "cell_type": "code",
   "execution_count": null,
   "metadata": {},
   "outputs": [],
   "source": [
    "res = fsolve(error_func, 45*m/s, params_EH);\n",
    "v_EH = res[0]*m/s\n",
    "angle_EH = opt_angle\n",
    "print(v_EH, angle_EH)"
   ]
  },
  {
   "cell_type": "code",
   "execution_count": null,
   "metadata": {
    "scrolled": true
   },
   "outputs": [],
   "source": [
    "params_EH = Params(params_EH, velocity=v_EH, angle=angle_EH)\n",
    "system_EH = make_system(params_EH);\n",
    "error_func(params_EH.velocity, params_EH)"
   ]
  },
  {
   "cell_type": "code",
   "execution_count": null,
   "metadata": {},
   "outputs": [],
   "source": [
    "resultsEH, detailsEH = run_ode_solver(system_EH, slope_func, method=\"RK45\",max_step = 0.5*s, events = event_func)\n",
    "print(resultsEH)"
   ]
  },
  {
   "cell_type": "markdown",
   "metadata": {},
   "source": [
    "\n",
    "We can see it took about 4 seconds for the projectile to get from the roof of West Hall to the roof of East Hall. We can then plot the path that the present takes.\n"
   ]
  },
  {
   "cell_type": "code",
   "execution_count": null,
   "metadata": {
    "scrolled": true
   },
   "outputs": [],
   "source": [
    "plot(resultsEH.x,resultsEH.y)\n",
    "decorate(xlabel='X-position (m)',\n",
    "         ylabel='Y-position (m)',\n",
    "         title='Trajectory of Present from West Hall to East Hall',\n",
    "         legend=False)"
   ]
  },
  {
   "cell_type": "markdown",
   "metadata": {},
   "source": [
    "East Hall is at a slightly lower elevation than West Hall, so our graph seems appropriate.\n",
    "\n",
    "Now that we know that we were successful with launching presents to East Hall, we can repeat the process with the three other buildings on campus."
   ]
  },
  {
   "cell_type": "code",
   "execution_count": null,
   "metadata": {},
   "outputs": [],
   "source": [
    "res2 = fsolve(error_func, 45*m/s, params_CC);\n",
    "v_CC = res2[0]*m/s\n",
    "angle_CC = opt_angle\n",
    "print(v_CC, angle_CC)"
   ]
  },
  {
   "cell_type": "code",
   "execution_count": null,
   "metadata": {},
   "outputs": [],
   "source": [
    "params_CC = Params(params_CC, velocity=v_CC, angle=angle_CC)\n",
    "system_CC = make_system(params_CC);\n",
    "error_func(params_CC.velocity, params_CC)"
   ]
  },
  {
   "cell_type": "code",
   "execution_count": null,
   "metadata": {},
   "outputs": [],
   "source": [
    "resultsCC, detailsCC = run_ode_solver(system_CC, slope_func, method=\"RK45\", max_step=0.5*s, events = event_func)\n",
    "detailsCC.message\n",
    "plot(resultsCC.x, resultsCC.y)\n",
    "decorate(xlabel='X-position (m)',\n",
    "         ylabel='Y-position (m)',\n",
    "         title='Trajectory of Present from West Hall to the Campus Center',\n",
    "         legend=False)"
   ]
  },
  {
   "cell_type": "code",
   "execution_count": null,
   "metadata": {},
   "outputs": [],
   "source": [
    "res3 = fsolve(error_func, 45*m/s, params_MH);\n",
    "v_MH = res3[0]*m/s\n",
    "angle_MH = opt_angle\n",
    "print(v_MH, angle_MH)"
   ]
  },
  {
   "cell_type": "code",
   "execution_count": null,
   "metadata": {},
   "outputs": [],
   "source": [
    "params_MH = Params(params_MH, velocity=v_MH, angle=angle_MH)\n",
    "system_MH = make_system(params_MH)\n",
    "error_func(params_MH.velocity, params_MH)"
   ]
  },
  {
   "cell_type": "code",
   "execution_count": null,
   "metadata": {},
   "outputs": [],
   "source": [
    "resultsMH, detailsMH = run_ode_solver(system_MH, slope_func, method=\"RK45\", max_step=0.5*s, events = event_func)\n",
    "detailsMH.message\n",
    "plot(resultsMH.x, resultsMH.y)\n",
    "decorate(xlabel='X-position (m)',\n",
    "         ylabel='Y-position (m)',\n",
    "         title='Trajectory of Present from West Hall to Milas Hall',\n",
    "         legend=False)"
   ]
  },
  {
   "cell_type": "code",
   "execution_count": null,
   "metadata": {},
   "outputs": [],
   "source": [
    "res4 = fsolve(error_func, 45*m/s, params_AC);\n",
    "v_AC = res4[0]*m/s\n",
    "angle_AC = opt_angle\n",
    "print(v_AC, angle_AC)"
   ]
  },
  {
   "cell_type": "code",
   "execution_count": null,
   "metadata": {},
   "outputs": [],
   "source": [
    "params_AC = Params(params, velocity=v_AC, angle=angle_AC, h_end=height_AC, d_end=to_AC)\n",
    "system_AC = make_system(params_AC)\n",
    "error_func(params_AC.velocity, params_AC)\n",
    "print(params_AC)"
   ]
  },
  {
   "cell_type": "code",
   "execution_count": null,
   "metadata": {
    "scrolled": true
   },
   "outputs": [],
   "source": [
    "resultsAC, detailsAC = run_ode_solver(system_AC, slope_func, method=\"RK45\", max_step=0.5*s, events = event_func)\n",
    "detailsAC.message\n",
    "plot(resultsAC.x, resultsAC.y)\n",
    "decorate(xlabel='X-position (m)',\n",
    "         ylabel='Y-position (m)',\n",
    "         title='Trajectory of Present from West Hall to the Academic Center',\n",
    "         legend=False)"
   ]
  },
  {
   "cell_type": "markdown",
   "metadata": {},
   "source": [
    "Now that we have calculated the respective velocity and corresponding angle for each building, we'll find the force each launcher needs to launch the presents at the desired velocities."
   ]
  },
  {
   "cell_type": "markdown",
   "metadata": {},
   "source": [
    "We first create a function that will calculate the force needed to push the spring back given the final velocity. It uses the equation: $ F = -kx $. In the equation, $F$ stands for force, $k$ stands for the spring constant (which changes based on the type of spring), and $x$ stands for the displacement from the spring's position of rest."
   ]
  },
  {
   "cell_type": "code",
   "execution_count": null,
   "metadata": {},
   "outputs": [],
   "source": [
    "def compute_force_spring(params):\n",
    "    \"\"\"Calculates force to push spring in imaginary present-launcher.\n",
    "    \n",
    "    params: Params object\n",
    "    \n",
    "    returns: force\n",
    "    \"\"\"\n",
    "    unpack(params)\n",
    "\n",
    "    k_constant = (mass * velocity**2) / (.5*m**2)\n",
    "    force_to_push_spring = k_constant * (.52*m) \n",
    "    return force_to_push_spring"
   ]
  },
  {
   "cell_type": "markdown",
   "metadata": {},
   "source": [
    "We now write a funtion for calculating the force the track launcher needs to accelerate the package, given the length of the track. We use the equation: $ \n",
    "\n",
    "We assume that friction is negligible and we ignored drag to simplify the calculations.  We know that drag would increase the force required, but we "
   ]
  },
  {
   "cell_type": "code",
   "execution_count": null,
   "metadata": {},
   "outputs": [],
   "source": [
    "def compute_force_track(params):\n",
    "    unpack(params)\n",
    "    accel = velocity**2/(2*4*m)\n",
    "    force = mass * accel\n",
    "    return force"
   ]
  },
  {
   "cell_type": "code",
   "execution_count": null,
   "metadata": {
    "scrolled": false
   },
   "outputs": [],
   "source": [
    "force_EH_spring = compute_force_spring(params_EH).to(N)/2\n",
    "force_to_EH_track = compute_force_track(params_EH).to(N)\n",
    "print('Spring launcher force (per arm): ' + str(force_EH_spring))\n",
    "print('Track launcher force: ' +str(force_to_EH_track))"
   ]
  },
  {
   "cell_type": "code",
   "execution_count": null,
   "metadata": {},
   "outputs": [],
   "source": [
    "force_MH_spring = compute_force_spring(params_MH).to(N)/2\n",
    "force_to_MH_track = compute_force_track(params_MH).to(N)\n",
    "print('Spring launcher force (per arm): ' + str(force_MH_spring))\n",
    "print('Track launcher force: ' +str(force_to_MH_track))"
   ]
  },
  {
   "cell_type": "code",
   "execution_count": null,
   "metadata": {},
   "outputs": [],
   "source": [
    "force_CC_spring = compute_force_spring(params_CC).to(N)/2\n",
    "force_to_CC_track = compute_force_track(params_CC).to(N)\n",
    "print('Spring launcher force (per arm): ' + str(force_CC_spring))\n",
    "print('Track launcher force: ' +str(force_to_CC_track))"
   ]
  },
  {
   "cell_type": "code",
   "execution_count": null,
   "metadata": {},
   "outputs": [],
   "source": [
    "force_AC_spring = compute_force_spring(params_AC).to(N)/2\n",
    "force_to_AC_track = compute_force_track(params_AC).to(N)\n",
    "print('Spring launcher force (per arm): ' + str(force_AC_spring))\n",
    "print('Track launcher force: ' +str(force_to_AC_track))"
   ]
  },
  {
   "cell_type": "markdown",
   "metadata": {},
   "source": [
    "As can be seen by the results, the track (mechanical) launcher required less force to achieve the same velocity as the spring launcher.  Therefore, if Santa were to build a launcher, we'd suggest he build a mechanical one.  All in all, it might be better for Santa to just fly over all the buildings, seeing as he's mastered travelling faster than the speed of sound to deliver presents.\n",
    "\n",
    "https://www.physlink.com/Fun/IsThereSanta.cfm"
   ]
  },
  {
   "cell_type": "code",
   "execution_count": null,
   "metadata": {},
   "outputs": [],
   "source": []
  }
 ],
 "metadata": {
  "kernelspec": {
   "display_name": "Python 3",
   "language": "python",
   "name": "python3"
  },
  "language_info": {
   "codemirror_mode": {
    "name": "ipython",
    "version": 3
   },
   "file_extension": ".py",
   "mimetype": "text/x-python",
   "name": "python",
   "nbconvert_exporter": "python",
   "pygments_lexer": "ipython3",
   "version": "3.6.6"
  }
 },
 "nbformat": 4,
 "nbformat_minor": 2
}
