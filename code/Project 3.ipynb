{
 "cells": [
  {
   "cell_type": "markdown",
   "metadata": {},
   "source": [
    "# Santa Claus the Engineer!"
   ]
  },
  {
   "cell_type": "code",
   "execution_count": 1,
   "metadata": {},
   "outputs": [],
   "source": [
    "# Configure Jupyter so figures appear in the notebook\n",
    "%matplotlib inline\n",
    "\n",
    "# Configure Jupyter to display the assigned value after an assignment\n",
    "%config InteractiveShell.ast_node_interactivity='last_expr_or_assign'\n",
    "\n",
    "# import functions from the modsim.py module\n",
    "from modsim import *"
   ]
  },
  {
   "cell_type": "markdown",
   "metadata": {},
   "source": [
    "## Question:\n",
    "\n",
    "Suppose Santa is trying to speed up the already quick present-giving process on Christmas Eve. Instead of going to the roof of every building on Olin's campus, he decides to land on West Hall and launch all his presents to the tops of the other four buildings. He has a launcher that can launch presents at any velocity and angle that he desires (because Santa is an engineer).\n",
    "\n",
    "At what angle and final velocity will optimize Santa's needed force to launch his presents to all the other campus buildings?"
   ]
  },
  {
   "cell_type": "code",
   "execution_count": 2,
   "metadata": {},
   "outputs": [],
   "source": [
    "#define units\n",
    "\n",
    "m = UNITS.meter\n",
    "s = UNITS.second\n",
    "kg = UNITS.kilogram\n",
    "feet = UNITS.feet\n",
    "inch = UNITS.inch\n",
    "degree = UNITS.degree;"
   ]
  },
  {
   "cell_type": "markdown",
   "metadata": {},
   "source": [
    "Here are the heights of Olin's five buildings, according to the building plans. We decided to set the height of West Hall as our origin to provide clarity.\n",
    "\n",
    "*Note: any variables pertaining to a building are assigned as \"variable_building\"*"
   ]
  },
  {
   "cell_type": "code",
   "execution_count": 3,
   "metadata": {},
   "outputs": [
    {
     "data": {
      "text/html": [
       "-1.2795249999999996 meter"
      ],
      "text/latex": [
       "$-1.2795249999999996 meter$"
      ],
      "text/plain": [
       "<Quantity(-1.2795249999999996, 'meter')>"
      ]
     },
     "execution_count": 3,
     "metadata": {},
     "output_type": "execute_result"
    }
   ],
   "source": [
    "height_WH = (53*feet + 1.625*inch).to(m) #16.196 m height of West Hall\n",
    "\n",
    "height_EH = (67*feet).to(m) - height_WH #20.422 m height of East Hall\n",
    "height_CC = (62*feet + 4* inch).to(m) - height_WH #18.992 m height of Campus Center\n",
    "height_MH = (54*feet + 5.375*inch).to(m) - height_WH #15.596 m height of Milas Hall\n",
    "height_AC =  (48*feet + 11.25*inch).to(m) - height_WH #14.916 m height of Academic Center"
   ]
  },
  {
   "cell_type": "markdown",
   "metadata": {},
   "source": [
    "... and the approximate distances between West Hall and the other four buildings (estimated using Google Maps)."
   ]
  },
  {
   "cell_type": "code",
   "execution_count": 4,
   "metadata": {},
   "outputs": [],
   "source": [
    "to_EH = 80.88*m\n",
    "to_CC = 72.69*m\n",
    "to_AC = 141.29*m\n",
    "to_MH = 108.69*m;"
   ]
  },
  {
   "cell_type": "markdown",
   "metadata": {},
   "source": [
    "Now we need to create \"params\" and our System variable.  We'll start off by assuming Santa's launcher launches presents at a speed of 40m/s."
   ]
  },
  {
   "cell_type": "code",
   "execution_count": 5,
   "metadata": {},
   "outputs": [
    {
     "data": {
      "text/html": [
       "<div>\n",
       "<style scoped>\n",
       "    .dataframe tbody tr th:only-of-type {\n",
       "        vertical-align: middle;\n",
       "    }\n",
       "\n",
       "    .dataframe tbody tr th {\n",
       "        vertical-align: top;\n",
       "    }\n",
       "\n",
       "    .dataframe thead th {\n",
       "        text-align: right;\n",
       "    }\n",
       "</style>\n",
       "<table border=\"1\" class=\"dataframe\">\n",
       "  <thead>\n",
       "    <tr style=\"text-align: right;\">\n",
       "      <th></th>\n",
       "      <th>values</th>\n",
       "    </tr>\n",
       "  </thead>\n",
       "  <tbody>\n",
       "    <tr>\n",
       "      <th>x</th>\n",
       "      <td>0 meter</td>\n",
       "    </tr>\n",
       "    <tr>\n",
       "      <th>y</th>\n",
       "      <td>0 meter</td>\n",
       "    </tr>\n",
       "    <tr>\n",
       "      <th>g</th>\n",
       "      <td>9.81 meter / second ** 2</td>\n",
       "    </tr>\n",
       "    <tr>\n",
       "      <th>mass</th>\n",
       "      <td>1.0206 kilogram</td>\n",
       "    </tr>\n",
       "    <tr>\n",
       "      <th>height</th>\n",
       "      <td>0.3048 meter</td>\n",
       "    </tr>\n",
       "    <tr>\n",
       "      <th>length</th>\n",
       "      <td>0.3048 meter</td>\n",
       "    </tr>\n",
       "    <tr>\n",
       "      <th>width</th>\n",
       "      <td>0.3048 meter</td>\n",
       "    </tr>\n",
       "    <tr>\n",
       "      <th>rho</th>\n",
       "      <td>1.2 kilogram / meter ** 3</td>\n",
       "    </tr>\n",
       "    <tr>\n",
       "      <th>C_d</th>\n",
       "      <td>0.8</td>\n",
       "    </tr>\n",
       "    <tr>\n",
       "      <th>angle</th>\n",
       "      <td>45 degree</td>\n",
       "    </tr>\n",
       "    <tr>\n",
       "      <th>velocity</th>\n",
       "      <td>40.0 meter / second</td>\n",
       "    </tr>\n",
       "    <tr>\n",
       "      <th>t_end</th>\n",
       "      <td>100 second</td>\n",
       "    </tr>\n",
       "    <tr>\n",
       "      <th>d_end</th>\n",
       "      <td>10 meter</td>\n",
       "    </tr>\n",
       "  </tbody>\n",
       "</table>\n",
       "</div>"
      ],
      "text/plain": [
       "x                             0 meter\n",
       "y                             0 meter\n",
       "g            9.81 meter / second ** 2\n",
       "mass                  1.0206 kilogram\n",
       "height                   0.3048 meter\n",
       "length                   0.3048 meter\n",
       "width                    0.3048 meter\n",
       "rho         1.2 kilogram / meter ** 3\n",
       "C_d                               0.8\n",
       "angle                       45 degree\n",
       "velocity          40.0 meter / second\n",
       "t_end                      100 second\n",
       "d_end                        10 meter\n",
       "dtype: object"
      ]
     },
     "execution_count": 5,
     "metadata": {},
     "output_type": "execute_result"
    }
   ],
   "source": [
    "#create parameters\n",
    "params = Params(x = 0 * m, \n",
    "                y = 0 * m,\n",
    "                g = 9.81 * m/s**2,\n",
    "                mass = 1.0206 * kg,\n",
    "                height = 0.3048 * m,\n",
    "                length = 0.3048 * m,\n",
    "                width = 0.3048 * m,\n",
    "                rho = 1.2 * kg/m**3,\n",
    "                C_d = 0.8,\n",
    "                angle = 45 * degree,\n",
    "                velocity = 40 * m / s,\n",
    "                t_end = 100 * s,\n",
    "                d_end = 10*m)"
   ]
  },
  {
   "cell_type": "markdown",
   "metadata": {},
   "source": [
    "Now, we'll write functions that will create the system object, calculate the force of drag on the present, compute the derivates of the state variables (like velocity and acceleration), and stop the simulation when the height of the present is 0."
   ]
  },
  {
   "cell_type": "code",
   "execution_count": 6,
   "metadata": {},
   "outputs": [],
   "source": [
    "#create our system object\n",
    "\n",
    "def make_system(params):\n",
    "    \"\"\"Make a system object.\n",
    "    \n",
    "    params: Params object with angle, velocity, x, y,\n",
    "               diameter, duration, g, mass, rho, and C_d\n",
    "               \n",
    "    returns: System object\n",
    "    \"\"\"\n",
    "    unpack(params)\n",
    "    \n",
    "    # convert angle to degrees\n",
    "    theta = np.deg2rad(angle)\n",
    "    \n",
    "    # compute x and y components of velocity\n",
    "    vx, vy = pol2cart(theta, velocity)\n",
    "    \n",
    "    # make the initial state\n",
    "    init = State(x=x, y=y, vx=vx, vy=vy)\n",
    "    \n",
    "    # compute area from diameter\n",
    "    area = height*length*height\n",
    "    \n",
    "    return System(params, init=init, area=area)"
   ]
  },
  {
   "cell_type": "markdown",
   "metadata": {},
   "source": [
    "We also wrote drag and slope functions to update forces as the present moved through the air."
   ]
  },
  {
   "cell_type": "code",
   "execution_count": 7,
   "metadata": {},
   "outputs": [],
   "source": [
    "def drag_force(V, system):\n",
    "    \"\"\"Computes drag force in the opposite direction of `V`.\n",
    "    \n",
    "    V: velocity\n",
    "    system: System object with rho, C_d, area\n",
    "    \n",
    "    returns: Vector drag force\n",
    "    \"\"\"\n",
    "    unpack(system)\n",
    "    mag = -rho * V.mag**2 * C_d * area / 2\n",
    "    direction = V.hat()\n",
    "    f_drag = mag * direction\n",
    "    return f_drag"
   ]
  },
  {
   "cell_type": "code",
   "execution_count": 8,
   "metadata": {},
   "outputs": [],
   "source": [
    "def slope_func(state, t, system):\n",
    "    \"\"\"Computes derivatives of the state variables.\n",
    "    \n",
    "    state: State (x, y, x velocity, y velocity)\n",
    "    t: time\n",
    "    system: System object with g, rho, C_d, area, mass\n",
    "    \n",
    "    returns: sequence (vx, vy, ax, ay)\n",
    "    \"\"\"\n",
    "    x, y, vx, vy = state\n",
    "    unpack(system)\n",
    "\n",
    "    V = Vector(vx, vy)    \n",
    "    a_drag = drag_force(V, system) / mass\n",
    "    a_grav = Vector(0, -g)\n",
    "    \n",
    "    a = a_grav + a_drag\n",
    "    \n",
    "    return vx, vy, a.x, a.y"
   ]
  },
  {
   "cell_type": "code",
   "execution_count": 9,
   "metadata": {},
   "outputs": [],
   "source": [
    "def event_func(state, t, system):\n",
    "    \"\"\"Stop when the y coordinate is 0.\n",
    "    \n",
    "    state: State object\n",
    "    t: time\n",
    "    system: System object\n",
    "    \n",
    "    returns: y coordinate\n",
    "    \"\"\"\n",
    "    x, y, vx, vy = state\n",
    "    return y+0.001"
   ]
  },
  {
   "cell_type": "markdown",
   "metadata": {},
   "source": [
    "We then test the functions we've written by using *run_ode_solver*."
   ]
  },
  {
   "cell_type": "code",
   "execution_count": 10,
   "metadata": {},
   "outputs": [
    {
     "data": {
      "text/plain": [
       "'A termination event occurred.'"
      ]
     },
     "execution_count": 10,
     "metadata": {},
     "output_type": "execute_result"
    }
   ],
   "source": [
    "params = make_system(params)\n",
    "results, details = run_ode_solver(params, slope_func, method=\"RK45\", max_step=0.5*s, events = event_func)\n",
    "details.message"
   ]
  },
  {
   "cell_type": "code",
   "execution_count": 11,
   "metadata": {},
   "outputs": [
    {
     "data": {
      "text/html": [
       "<div>\n",
       "<style scoped>\n",
       "    .dataframe tbody tr th:only-of-type {\n",
       "        vertical-align: middle;\n",
       "    }\n",
       "\n",
       "    .dataframe tbody tr th {\n",
       "        vertical-align: top;\n",
       "    }\n",
       "\n",
       "    .dataframe thead th {\n",
       "        text-align: right;\n",
       "    }\n",
       "</style>\n",
       "<table border=\"1\" class=\"dataframe\">\n",
       "  <thead>\n",
       "    <tr style=\"text-align: right;\">\n",
       "      <th></th>\n",
       "      <th>x</th>\n",
       "      <th>y</th>\n",
       "      <th>vx</th>\n",
       "      <th>vy</th>\n",
       "    </tr>\n",
       "  </thead>\n",
       "  <tbody>\n",
       "    <tr>\n",
       "      <th>2.392819</th>\n",
       "      <td>45.457752</td>\n",
       "      <td>22.754604</td>\n",
       "      <td>13.935293</td>\n",
       "      <td>-3.966550</td>\n",
       "    </tr>\n",
       "    <tr>\n",
       "      <th>2.892819</th>\n",
       "      <td>52.097686</td>\n",
       "      <td>19.677338</td>\n",
       "      <td>12.636463</td>\n",
       "      <td>-8.267918</td>\n",
       "    </tr>\n",
       "    <tr>\n",
       "      <th>3.392819</th>\n",
       "      <td>58.099844</td>\n",
       "      <td>14.565815</td>\n",
       "      <td>11.374198</td>\n",
       "      <td>-12.093849</td>\n",
       "    </tr>\n",
       "    <tr>\n",
       "      <th>3.892819</th>\n",
       "      <td>63.473472</td>\n",
       "      <td>7.672224</td>\n",
       "      <td>10.122883</td>\n",
       "      <td>-15.388633</td>\n",
       "    </tr>\n",
       "    <tr>\n",
       "      <th>4.352376</th>\n",
       "      <td>67.865602</td>\n",
       "      <td>-0.001000</td>\n",
       "      <td>8.997848</td>\n",
       "      <td>-17.927630</td>\n",
       "    </tr>\n",
       "  </tbody>\n",
       "</table>\n",
       "</div>"
      ],
      "text/plain": [
       "                  x          y         vx         vy\n",
       "2.392819  45.457752  22.754604  13.935293  -3.966550\n",
       "2.892819  52.097686  19.677338  12.636463  -8.267918\n",
       "3.392819  58.099844  14.565815  11.374198 -12.093849\n",
       "3.892819  63.473472   7.672224  10.122883 -15.388633\n",
       "4.352376  67.865602  -0.001000   8.997848 -17.927630"
      ]
     },
     "execution_count": 11,
     "metadata": {},
     "output_type": "execute_result"
    }
   ],
   "source": [
    "results.tail()"
   ]
  },
  {
   "cell_type": "code",
   "execution_count": 12,
   "metadata": {},
   "outputs": [
    {
     "data": {
      "text/plain": [
       "[<matplotlib.lines.Line2D at 0x1d3b97c4710>]"
      ]
     },
     "execution_count": 12,
     "metadata": {},
     "output_type": "execute_result"
    },
    {
     "data": {
      "image/png": "[encoded data removed]",
      "text/plain": [
       "<Figure size 432x288 with 1 Axes>"
      ]
     },
     "metadata": {},
     "output_type": "display_data"
    }
   ],
   "source": [
    "plot(results.y)"
   ]
  },
  {
   "cell_type": "markdown",
   "metadata": {},
   "source": [
    "Now we know the functions written up to this point work. Our next step is to implement data we collected and figure out what the optimal speed and angle are for Santa if he launched presents from West Hall to the other four buildings on campus."
   ]
  },
  {
   "cell_type": "code",
   "execution_count": 27,
   "metadata": {},
   "outputs": [],
   "source": [
    "paramsEH = Params(params, h_end=height_EH, d_end=to_EH);\n",
    "paramsMH = Params(params, h_end=height_MH, d_end=to_MH);\n",
    "paramsAC = Params(params, h_end=height_AC, d_end=to_AC);\n",
    "paramsCC = Params(params, h_end=height_CC, d_end=to_CC);"
   ]
  },
  {
   "cell_type": "code",
   "execution_count": 47,
   "metadata": {},
   "outputs": [],
   "source": [
    "def event_func2(state, t, system):\n",
    "    \"\"\"Stop when the x coordinate is 0.\n",
    "    \n",
    "    state: State object\n",
    "    t: time\n",
    "    system: System object\n",
    "    \n",
    "    returns: x coordinate\n",
    "    \"\"\"\n",
    "    unpack(system)\n",
    "    x, y, vx, vy = state\n",
    "    return x-d_end\n",
    "\n",
    "def height_func(angle, params):  \n",
    "    \"\"\"Computes height for a given launch angle.\n",
    "    \n",
    "    angle: launch angle in degrees\n",
    "    params: Params object\n",
    "    \n",
    "    returns: height in meters\n",
    "    \"\"\"\n",
    "    params = Params(params, angle=angle)\n",
    "    system = make_system(params)\n",
    "    results, details = run_ode_solver(system, slope_func, events=event_func2)\n",
    "    y_dist = get_last_value(results.y) * m\n",
    "    return y_dist"
   ]
  },
  {
   "cell_type": "code",
   "execution_count": 40,
   "metadata": {},
   "outputs": [],
   "source": [
    "opt_angle = 45*degree\n",
    "def error_func(v, params):\n",
    "    this_params = Params(params, velocity=v)\n",
    "    optimal_height = max_bounded(height_func, [0,90], this_params)\n",
    "    global opt_angle\n",
    "    opt_angle = optimal_height.x*degree\n",
    "    height = optimal_height.fun\n",
    "    return height - params.h_end"
   ]
  },
  {
   "cell_type": "code",
   "execution_count": 41,
   "metadata": {},
   "outputs": [
    {
     "name": "stdout",
     "output_type": "stream",
     "text": [
      "48.903586728999755 meter / second 38.5945570483135 degree\n"
     ]
    }
   ],
   "source": [
    "res = fsolve(error_func, 45*m/s, paramsEH);\n",
    "v_EH = res[0]*m/s\n",
    "angle_EH = opt_angle\n",
    "print(v_EH, angle_EH)"
   ]
  },
  {
   "cell_type": "code",
   "execution_count": 42,
   "metadata": {
    "scrolled": true
   },
   "outputs": [
    {
     "data": {
      "text/html": [
       "-5.60440582830779e-13 meter"
      ],
      "text/latex": [
       "$-5.60440582830779e-13 meter$"
      ],
      "text/plain": [
       "<Quantity(-5.60440582830779e-13, 'meter')>"
      ]
     },
     "execution_count": 42,
     "metadata": {},
     "output_type": "execute_result"
    }
   ],
   "source": [
    "paramsEH = Params(paramsEH, velocity=v_EH, angle=angle_EH)\n",
    "error_func(paramsEH.velocity, paramsEH)"
   ]
  },
  {
   "cell_type": "code",
   "execution_count": 43,
   "metadata": {},
   "outputs": [
    {
     "data": {
      "text/plain": [
       "'A termination event occurred.'"
      ]
     },
     "execution_count": 43,
     "metadata": {},
     "output_type": "execute_result"
    }
   ],
   "source": [
    "resultsEH, detailsEH = run_ode_solver(paramsEH, slope_func, method=\"RK45\", max_step=0.5*s, events = event_func2)\n",
    "detailsEH.message"
   ]
  },
  {
   "cell_type": "code",
   "execution_count": 46,
   "metadata": {
    "scrolled": true
   },
   "outputs": [
    {
     "data": {
      "text/plain": [
       "[<matplotlib.lines.Line2D at 0x1d3b9c9df60>]"
      ]
     },
     "execution_count": 46,
     "metadata": {},
     "output_type": "execute_result"
    },
    {
     "data": {
      "image/png": "[encoded data removed]",
      "text/plain": [
       "<Figure size 432x288 with 1 Axes>"
      ]
     },
     "metadata": {},
     "output_type": "display_data"
    }
   ],
   "source": [
    "plot(resultsEH.x,resultsEH.y)"
   ]
  },
  {
   "cell_type": "code",
   "execution_count": 37,
   "metadata": {},
   "outputs": [
    {
     "name": "stdout",
     "output_type": "stream",
     "text": [
      "35.99028565409101 degree\n",
      "41.05387394593565 meter / second 37.15303030472443 degree\n"
     ]
    }
   ],
   "source": [
    "print(opt_angle)\n",
    "res2 = fsolve(error_func, 45*m/s, paramsCC);\n",
    "v_CC = res2[0]*m/s\n",
    "angle_CC = opt_angle\n",
    "print(v_CC, angle_CC)"
   ]
  },
  {
   "cell_type": "code",
   "execution_count": 38,
   "metadata": {},
   "outputs": [
    {
     "data": {
      "text/html": [
       "3.97193389289896e-12 meter"
      ],
      "text/latex": [
       "$3.97193389289896e-12 meter$"
      ],
      "text/plain": [
       "<Quantity(3.97193389289896e-12, 'meter')>"
      ]
     },
     "execution_count": 38,
     "metadata": {},
     "output_type": "execute_result"
    }
   ],
   "source": [
    "paramsCC = Params(paramsCC, velocity=v_CC, angle=angle_CC)\n",
    "error_func(paramsCC.velocity, paramsCC)"
   ]
  },
  {
   "cell_type": "code",
   "execution_count": 39,
   "metadata": {},
   "outputs": [
    {
     "data": {
      "text/plain": [
       "[<matplotlib.lines.Line2D at 0x1d3b9b76ef0>]"
      ]
     },
     "execution_count": 39,
     "metadata": {},
     "output_type": "execute_result"
    },
    {
     "data": {
      "image/png": "[encoded data removed]",
      "text/plain": [
       "<Figure size 432x288 with 1 Axes>"
      ]
     },
     "metadata": {},
     "output_type": "display_data"
    }
   ],
   "source": [
    "resultsCC, detailsCC = run_ode_solver(paramsCC, slope_func, method=\"RK45\", max_step=0.5*s, events = event_func2)\n",
    "detailsCC.message\n",
    "plot(resultsCC.y)"
   ]
  },
  {
   "cell_type": "code",
   "execution_count": 23,
   "metadata": {},
   "outputs": [
    {
     "name": "stdout",
     "output_type": "stream",
     "text": [
      "39.090930340504784 degree\n",
      "68.39087073698052 meter / second 34.51096663527482 degree\n"
     ]
    }
   ],
   "source": [
    "print(opt_angle)\n",
    "res3 = fsolve(error_func, 45*m/s, paramsMH);\n",
    "v_MH = res3[0]*m/s\n",
    "angle_MH = opt_angle\n",
    "print(v_MH, angle_MH)"
   ]
  },
  {
   "cell_type": "code",
   "execution_count": 28,
   "metadata": {},
   "outputs": [
    {
     "data": {
      "text/html": [
       "-2.4183921532028307e-09 meter"
      ],
      "text/latex": [
       "$-2.4183921532028307e-09 meter$"
      ],
      "text/plain": [
       "<Quantity(-2.4183921532028307e-09, 'meter')>"
      ]
     },
     "execution_count": 28,
     "metadata": {},
     "output_type": "execute_result"
    }
   ],
   "source": [
    "paramsMH = Params(paramsMH, velocity=v_MH, angle=angle_MH)\n",
    "error_func(paramsMH.velocity, paramsMH)"
   ]
  },
  {
   "cell_type": "code",
   "execution_count": null,
   "metadata": {},
   "outputs": [],
   "source": []
  },
  {
   "cell_type": "code",
   "execution_count": null,
   "metadata": {},
   "outputs": [],
   "source": [
    "print(opt_angle)\n",
    "res4 = fsolve(error_func, 45*m/s, paramsAC);\n",
    "v_AC = res4[0]*m/s\n",
    "angle_AC = opt_angle\n",
    "print(v_AC, angle_AC)"
   ]
  },
  {
   "cell_type": "code",
   "execution_count": null,
   "metadata": {},
   "outputs": [],
   "source": [
    "paramsAC = Params(params, velocity=v_AC, angle=angle_AC)\n",
    "error_func(paramsAC.velocity, paramsAC)"
   ]
  },
  {
   "cell_type": "code",
   "execution_count": null,
   "metadata": {},
   "outputs": [],
   "source": [
    "def compute_force(velocity, angle, params):\n",
    "    unpack(params)\n",
    "    \n",
    "    k_constant = (mass * velocity**2) / (1*m)\n",
    "    force_to_push_spring = -k_constant * (1.0668*m) \n",
    "    return force_to_push_spring"
   ]
  },
  {
   "cell_type": "code",
   "execution_count": null,
   "metadata": {},
   "outputs": [],
   "source": []
  }
 ],
 "metadata": {
  "kernelspec": {
   "display_name": "Python 3",
   "language": "python",
   "name": "python3"
  },
  "language_info": {
   "codemirror_mode": {
    "name": "ipython",
    "version": 3
   },
   "file_extension": ".py",
   "mimetype": "text/x-python",
   "name": "python",
   "nbconvert_exporter": "python",
   "pygments_lexer": "ipython3",
   "version": "3.6.6"
  }
 },
 "nbformat": 4,
 "nbformat_minor": 2
}
