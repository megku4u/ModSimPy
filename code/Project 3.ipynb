{
 "cells": [
  {
   "cell_type": "markdown",
   "metadata": {},
   "source": [
    "# Santa Claus the Engineer!"
   ]
  },
  {
   "cell_type": "code",
   "execution_count": 21,
   "metadata": {},
   "outputs": [],
   "source": [
    "# Configure Jupyter so figures appear in the notebook\n",
    "%matplotlib inline\n",
    "\n",
    "# Configure Jupyter to display the assigned value after an assignment\n",
    "%config InteractiveShell.ast_node_interactivity='last_expr_or_assign'\n",
    "\n",
    "# import functions from the modsim.py module\n",
    "from modsim import *"
   ]
  },
  {
   "cell_type": "markdown",
   "metadata": {},
   "source": [
    "## Question:\n",
    "\n",
    "Suppose Santa is trying to speed up the already quick present-giving process on Christmas Eve. Instead of going to the roof of every building on Olin's campus, he decides to land on West Hall and launch all his presents to the tops of the other four buildings. He has a launcher that can launch presents at any velocity and angle that he desires (because Santa is an engineer).\n",
    "\n",
    "At what angle and final velocity will optimize Santa's needed force to launch his presents to all the other campus buildings?"
   ]
  },
  {
   "cell_type": "markdown",
   "metadata": {},
   "source": [
    "#define units\n",
    "\n",
    "m = UNITS.meter\n",
    "s = UNITS.second\n",
    "kg = UNITS.kilogram\n",
    "feet = UNITS.feet\n",
    "inch = UNITS.inch\n",
    "degree = UNITS.degree;"
   ]
  },
  {
   "cell_type": "markdown",
   "metadata": {},
   "source": [
    "Here are the heights of Olin's five buildings, according to the building plans."
   ]
  },
  {
   "cell_type": "code",
   "execution_count": 68,
   "metadata": {},
   "outputs": [
    {
     "data": {
      "text/html": [
       "-1.2795249999999996 meter"
      ],
      "text/latex": [
       "$-1.2795249999999996 meter$"
      ],
      "text/plain": [
       "<Quantity(-1.2795249999999996, 'meter')>"
      ]
     },
     "execution_count": 68,
     "metadata": {},
     "output_type": "execute_result"
    }
   ],
   "source": [
    "WH_height = (53*feet + 1.625*inch).to(m) #16.196 m\n",
    "\n",
    "AC_height = (67*feet).to(m) - WH_height #20.422 m\n",
    "CC_height = (62*feet + 4* inch).to(m) - WH_height #18.992 m\n",
    "MH_height = (54*feet + 5.375*inch).to(m) - WH_height #15.596 m\n",
    "EH_height = (48*feet + 11.25*inch).to(m) - WH_height #14.916 m"
   ]
  },
  {
   "cell_type": "markdown",
   "metadata": {},
   "source": [
    "... and the approximate distances between West Hall and the other four buildings (estimated on Google Maps)."
   ]
  },
  {
   "cell_type": "code",
   "execution_count": 69,
   "metadata": {},
   "outputs": [],
   "source": [
    "to_EH = 80.88*m\n",
    "to_CC = 72.69*m\n",
    "to_AC = 141.29*m\n",
    "to_MH = 108.69*m;"
   ]
  },
  {
   "cell_type": "markdown",
   "metadata": {},
   "source": [
    "Now we need to create \"params\" and our System variable.  We'll start off by assuming Santa's launcher launches presents at a speed of 40m/s."
   ]
  },
  {
   "cell_type": "code",
   "execution_count": 70,
   "metadata": {},
   "outputs": [
    {
     "data": {
      "text/html": [
       "<div>\n",
       "<style scoped>\n",
       "    .dataframe tbody tr th:only-of-type {\n",
       "        vertical-align: middle;\n",
       "    }\n",
       "\n",
       "    .dataframe tbody tr th {\n",
       "        vertical-align: top;\n",
       "    }\n",
       "\n",
       "    .dataframe thead th {\n",
       "        text-align: right;\n",
       "    }\n",
       "</style>\n",
       "<table border=\"1\" class=\"dataframe\">\n",
       "  <thead>\n",
       "    <tr style=\"text-align: right;\">\n",
       "      <th></th>\n",
       "      <th>values</th>\n",
       "    </tr>\n",
       "  </thead>\n",
       "  <tbody>\n",
       "    <tr>\n",
       "      <th>x</th>\n",
       "      <td>0 meter</td>\n",
       "    </tr>\n",
       "    <tr>\n",
       "      <th>y</th>\n",
       "      <td>0 meter</td>\n",
       "    </tr>\n",
       "    <tr>\n",
       "      <th>g</th>\n",
       "      <td>9.81 meter / second ** 2</td>\n",
       "    </tr>\n",
       "    <tr>\n",
       "      <th>mass</th>\n",
       "      <td>1.0206 kilogram</td>\n",
       "    </tr>\n",
       "    <tr>\n",
       "      <th>height</th>\n",
       "      <td>0.3048 meter</td>\n",
       "    </tr>\n",
       "    <tr>\n",
       "      <th>length</th>\n",
       "      <td>0.3048 meter</td>\n",
       "    </tr>\n",
       "    <tr>\n",
       "      <th>width</th>\n",
       "      <td>0.3048 meter</td>\n",
       "    </tr>\n",
       "    <tr>\n",
       "      <th>rho</th>\n",
       "      <td>1.2 kilogram / meter ** 3</td>\n",
       "    </tr>\n",
       "    <tr>\n",
       "      <th>C_d</th>\n",
       "      <td>0.8</td>\n",
       "    </tr>\n",
       "    <tr>\n",
       "      <th>angle</th>\n",
       "      <td>45 degree</td>\n",
       "    </tr>\n",
       "    <tr>\n",
       "      <th>velocity</th>\n",
       "      <td>40.0 meter / second</td>\n",
       "    </tr>\n",
       "    <tr>\n",
       "      <th>t_end</th>\n",
       "      <td>100 second</td>\n",
       "    </tr>\n",
       "  </tbody>\n",
       "</table>\n",
       "</div>"
      ],
      "text/plain": [
       "x                             0 meter\n",
       "y                             0 meter\n",
       "g            9.81 meter / second ** 2\n",
       "mass                  1.0206 kilogram\n",
       "height                   0.3048 meter\n",
       "length                   0.3048 meter\n",
       "width                    0.3048 meter\n",
       "rho         1.2 kilogram / meter ** 3\n",
       "C_d                               0.8\n",
       "angle                       45 degree\n",
       "velocity          40.0 meter / second\n",
       "t_end                      100 second\n",
       "dtype: object"
      ]
     },
     "execution_count": 70,
     "metadata": {},
     "output_type": "execute_result"
    }
   ],
   "source": [
    "#create parameters\n",
    "params = Params(x = 0 * m, \n",
    "                y = 0 * m,\n",
    "                g = 9.81 * m/s**2,\n",
    "                mass = 1.0206 * kg,\n",
    "                height = 0.3048 * m,\n",
    "                length = 0.3048 * m,\n",
    "                width = 0.3048 * m,\n",
    "                rho = 1.2 * kg/m**3,\n",
    "                C_d = 0.8,\n",
    "                angle = 45 * degree,\n",
    "                velocity = 40 * m / s,\n",
    "                t_end = 100 * s)"
   ]
  },
  {
   "cell_type": "code",
   "execution_count": 71,
   "metadata": {},
   "outputs": [],
   "source": [
    "#create our system object\n",
    "\n",
    "def make_system(params):\n",
    "    \"\"\"Make a system object.\n",
    "    \n",
    "    params: Params object with angle, velocity, x, y,\n",
    "               diameter, duration, g, mass, rho, and C_d\n",
    "               \n",
    "    returns: System object\n",
    "    \"\"\"\n",
    "    unpack(params)\n",
    "    \n",
    "    # convert angle to degrees\n",
    "    theta = np.deg2rad(angle)\n",
    "    \n",
    "    # compute x and y components of velocity\n",
    "    vx, vy = pol2cart(theta, velocity)\n",
    "    \n",
    "    # make the initial state\n",
    "    init = State(x=x, y=y, vx=vx, vy=vy)\n",
    "    \n",
    "    # compute area from diameter\n",
    "    area = height*length*height\n",
    "    \n",
    "    return System(params, init=init, area=area)"
   ]
  },
  {
   "cell_type": "code",
   "execution_count": 72,
   "metadata": {},
   "outputs": [],
   "source": [
    "def drag_force(V, system):\n",
    "    \"\"\"Computes drag force in the opposite direction of `V`.\n",
    "    \n",
    "    V: velocity\n",
    "    system: System object with rho, C_d, area\n",
    "    \n",
    "    returns: Vector drag force\n",
    "    \"\"\"\n",
    "    unpack(system)\n",
    "    mag = -rho * V.mag**2 * C_d * area / 2\n",
    "    direction = V.hat()\n",
    "    f_drag = mag * direction\n",
    "    return f_drag"
   ]
  },
  {
   "cell_type": "code",
   "execution_count": 73,
   "metadata": {},
   "outputs": [],
   "source": [
    "def slope_func(state, t, system):\n",
    "    \"\"\"Computes derivatives of the state variables.\n",
    "    \n",
    "    state: State (x, y, x velocity, y velocity)\n",
    "    t: time\n",
    "    system: System object with g, rho, C_d, area, mass\n",
    "    \n",
    "    returns: sequence (vx, vy, ax, ay)\n",
    "    \"\"\"\n",
    "    x, y, vx, vy = state\n",
    "    unpack(system)\n",
    "\n",
    "    V = Vector(vx, vy)    \n",
    "    a_drag = drag_force(V, system) / mass\n",
    "    a_grav = Vector(0, -g)\n",
    "    \n",
    "    a = a_grav + a_drag\n",
    "    \n",
    "    return vx, vy, a.x, a.y"
   ]
  },
  {
   "cell_type": "code",
   "execution_count": 74,
   "metadata": {},
   "outputs": [],
   "source": [
    "def event_func(state, t, system):\n",
    "    \"\"\"Stop when the y coordinate is 0.\n",
    "    \n",
    "    state: State object\n",
    "    t: time\n",
    "    system: System object\n",
    "    \n",
    "    returns: y coordinate\n",
    "    \"\"\"\n",
    "    x, y, vx, vy = state\n",
    "    return y+0.0001"
   ]
  },
  {
   "cell_type": "code",
   "execution_count": 75,
   "metadata": {},
   "outputs": [
    {
     "data": {
      "text/plain": [
       "'A termination event occurred.'"
      ]
     },
     "execution_count": 75,
     "metadata": {},
     "output_type": "execute_result"
    }
   ],
   "source": [
    "params = make_system(params)\n",
    "results, details = run_ode_solver(params, slope_func, max_step=0.5*s, events = event_func)\n",
    "details.message"
   ]
  },
  {
   "cell_type": "code",
   "execution_count": 76,
   "metadata": {},
   "outputs": [
    {
     "data": {
      "text/html": [
       "<div>\n",
       "<style scoped>\n",
       "    .dataframe tbody tr th:only-of-type {\n",
       "        vertical-align: middle;\n",
       "    }\n",
       "\n",
       "    .dataframe tbody tr th {\n",
       "        vertical-align: top;\n",
       "    }\n",
       "\n",
       "    .dataframe thead th {\n",
       "        text-align: right;\n",
       "    }\n",
       "</style>\n",
       "<table border=\"1\" class=\"dataframe\">\n",
       "  <thead>\n",
       "    <tr style=\"text-align: right;\">\n",
       "      <th></th>\n",
       "      <th>x</th>\n",
       "      <th>y</th>\n",
       "      <th>vx</th>\n",
       "      <th>vy</th>\n",
       "    </tr>\n",
       "  </thead>\n",
       "  <tbody>\n",
       "    <tr>\n",
       "      <th>2.392819</th>\n",
       "      <td>45.457752</td>\n",
       "      <td>22.754604</td>\n",
       "      <td>13.935293</td>\n",
       "      <td>-3.966550</td>\n",
       "    </tr>\n",
       "    <tr>\n",
       "      <th>2.892819</th>\n",
       "      <td>52.097686</td>\n",
       "      <td>19.677338</td>\n",
       "      <td>12.636463</td>\n",
       "      <td>-8.267918</td>\n",
       "    </tr>\n",
       "    <tr>\n",
       "      <th>3.392819</th>\n",
       "      <td>58.099844</td>\n",
       "      <td>14.565815</td>\n",
       "      <td>11.374198</td>\n",
       "      <td>-12.093849</td>\n",
       "    </tr>\n",
       "    <tr>\n",
       "      <th>3.892819</th>\n",
       "      <td>63.473472</td>\n",
       "      <td>7.672224</td>\n",
       "      <td>10.122883</td>\n",
       "      <td>-15.388633</td>\n",
       "    </tr>\n",
       "    <tr>\n",
       "      <th>4.352326</th>\n",
       "      <td>67.865150</td>\n",
       "      <td>-0.000100</td>\n",
       "      <td>8.997968</td>\n",
       "      <td>-17.927378</td>\n",
       "    </tr>\n",
       "  </tbody>\n",
       "</table>\n",
       "</div>"
      ],
      "text/plain": [
       "                  x          y         vx         vy\n",
       "2.392819  45.457752  22.754604  13.935293  -3.966550\n",
       "2.892819  52.097686  19.677338  12.636463  -8.267918\n",
       "3.392819  58.099844  14.565815  11.374198 -12.093849\n",
       "3.892819  63.473472   7.672224  10.122883 -15.388633\n",
       "4.352326  67.865150  -0.000100   8.997968 -17.927378"
      ]
     },
     "execution_count": 76,
     "metadata": {},
     "output_type": "execute_result"
    }
   ],
   "source": [
    "results.tail()"
   ]
  },
  {
   "cell_type": "code",
   "execution_count": 77,
   "metadata": {},
   "outputs": [
    {
     "data": {
      "text/plain": [
       "[<matplotlib.lines.Line2D at 0x1d647ade2e8>]"
      ]
     },
     "execution_count": 77,
     "metadata": {},
     "output_type": "execute_result"
    },
    {
     "data": {
      "image/png": "[encoded data removed]",
      "text/plain": [
       "<Figure size 432x288 with 1 Axes>"
      ]
     },
     "metadata": {},
     "output_type": "display_data"
    }
   ],
   "source": [
    "plot(results.y)"
   ]
  },
  {
   "cell_type": "code",
   "execution_count": 63,
   "metadata": {},
   "outputs": [],
   "source": [
    "def event_func2(state, t, system, dist_end):\n",
    "    \"\"\"Stop when the y coordinate is 0.\n",
    "    \n",
    "    state: State object\n",
    "    t: time\n",
    "    system: System object\n",
    "    \n",
    "    returns: y coordinate\n",
    "    \"\"\"\n",
    "    x, y, vx, vy = state\n",
    "    return x-dist_end\n",
    "\n",
    "def height_func(angle, params):  \n",
    "    \"\"\"Computes range for a given launch angle.\n",
    "    \n",
    "    angle: launch angle in degrees\n",
    "    params: Params object\n",
    "    \n",
    "    returns: distance in meters\n",
    "    \"\"\"\n",
    "    print(angle)\n",
    "    params = Params(params, angle=angle)\n",
    "    system = make_system(params)\n",
    "    results, details = run_ode_solver(system, slope_func, events=event_func2)\n",
    "    y_dist = get_last_value(results.y) * m\n",
    "    return y_dist"
   ]
  },
  {
   "cell_type": "code",
   "execution_count": 64,
   "metadata": {},
   "outputs": [
    {
     "name": "stdout",
     "output_type": "stream",
     "text": [
      "34.37694101250946\n",
      "55.62305898749054\n",
      "21.246117974981075\n",
      "28.077330702495093\n",
      "30.62511136707378\n",
      "30.75049102400633\n",
      "30.917758753455946\n",
      "30.90006346541506\n",
      "30.89952845131918\n",
      "30.899194659671775\n"
     ]
    },
    {
     "data": {
      "text/html": [
       "30.89952845131918 degree"
      ],
      "text/latex": [
       "$30.89952845131918 degree$"
      ],
      "text/plain": [
       "<Quantity(30.89952845131918, 'degree')>"
      ]
     },
     "execution_count": 64,
     "metadata": {},
     "output_type": "execute_result"
    }
   ],
   "source": [
    "res1 = max_bounded(height_func, [0, 90], params)\n",
    "optimal_angle_length = res1.x * degree"
   ]
  },
  {
   "cell_type": "code",
   "execution_count": 65,
   "metadata": {},
   "outputs": [],
   "source": [
    "def error_func(v, params, h_end):\n",
    "    this_params = Params(params, velocity=v)\n",
    "    optimal_height = max_bounded(height_func, [0,90], this_params)\n",
    "    height = optimal_height.fun\n",
    "    return height - (WH_height-h_end)"
   ]
  },
  {
   "cell_type": "code",
   "execution_count": 67,
   "metadata": {},
   "outputs": [
    {
     "name": "stdout",
     "output_type": "stream",
     "text": [
      "34.37694101250946\n",
      "55.62305898749054\n",
      "21.246117974981075\n",
      "30.095115348960196\n",
      "37.186219007453026\n",
      "35.40806710245242\n",
      "35.465649694075275\n",
      "35.5023701686017\n",
      "35.49988796277859\n",
      "35.49955410289682\n",
      "35.50022182266035\n",
      "34.37694101250946\n",
      "55.62305898749054\n",
      "21.246117974981075\n",
      "30.095115348960196\n",
      "37.186219007453026\n",
      "35.40806710245242\n",
      "35.465649694075275\n",
      "35.5023701686017\n",
      "35.49988796277859\n",
      "35.49955410289682\n",
      "35.50022182266035\n",
      "34.37694101250946\n",
      "55.62305898749054\n",
      "21.246117974981075\n",
      "30.095115348960196\n",
      "37.186219007453026\n",
      "35.40806710245242\n",
      "35.465649694075275\n",
      "35.5023701686017\n",
      "35.49988796277859\n",
      "35.49955410289682\n",
      "35.50022182266035\n",
      "34.37694101250946\n",
      "55.62305898749054\n",
      "21.246117974981075\n",
      "30.095115348960196\n",
      "37.186219007453026\n",
      "35.40806710245242\n",
      "35.465649694075275\n",
      "35.5023701686017\n",
      "35.49988796277859\n",
      "35.49955410289682\n",
      "35.50022182266035\n",
      "34.37694101250946\n",
      "55.62305898749054\n",
      "21.246117974981075\n",
      "30.09511566664703\n",
      "37.18621995240186\n",
      "35.40806765495598\n",
      "35.465650237492326\n",
      "35.50237073892145\n",
      "35.499888530987405\n",
      "35.499554671105635\n",
      "35.500222390869176\n",
      "34.37694101250946\n",
      "55.62305898749054\n",
      "21.246117974981075\n",
      "31.379879953394102\n",
      "40.88147458967252\n",
      "36.86145175802081\n",
      "37.35218298490888\n",
      "37.61345420617393\n",
      "37.55847899271975\n",
      "37.556553802930644\n",
      "37.55688769331769\n",
      "37.55722158370969\n",
      "34.37694101250946\n",
      "55.62305898749054\n",
      "21.246117974981075\n",
      "31.460841177111305\n",
      "42.492235949962144\n",
      "37.12906752264167\n",
      "37.35371485144632\n",
      "37.72975295198323\n",
      "37.67486973512262\n",
      "37.67219251819036\n",
      "37.67254868267535\n",
      "37.672882574782875\n",
      "34.37694101250946\n",
      "55.62305898749054\n",
      "21.246117974981075\n",
      "31.465771150353568\n",
      "42.492235949962144\n",
      "37.137226362438824\n",
      "37.36063014706516\n",
      "37.73681296987506\n",
      "37.68186870016641\n",
      "37.679196241145135\n",
      "37.679552886807784\n",
      "37.679886779019206\n",
      "34.37694101250946\n",
      "55.62305898749054\n",
      "21.246117974981075\n",
      "31.465787398439584\n",
      "42.492235949962144\n",
      "37.137253248782336\n",
      "37.360652932181594\n",
      "37.736836228433035\n",
      "37.68189175860112\n",
      "37.679219315293196\n",
      "37.67957596289414\n",
      "37.679909855105905\n",
      "34.37694101250946\n",
      "55.62305898749054\n",
      "21.246117974981075\n",
      "31.465787401497607\n",
      "42.492235949962144\n",
      "37.13725325384259\n",
      "37.36065293647\n",
      "37.736836232810234\n",
      "37.68189176294315\n",
      "37.67921931964625\n",
      "37.67957596708344\n",
      "37.6799098592952\n",
      "47.693185449751255 meter / second\n"
     ]
    }
   ],
   "source": [
    "answer = fsolve(error_func, 45*m, params, EH);\n",
    "print (answer[0]*m/s)"
   ]
  },
  {
   "cell_type": "code",
   "execution_count": null,
   "metadata": {},
   "outputs": [],
   "source": []
  }
 ],
 "metadata": {
  "kernelspec": {
   "display_name": "Python 3",
   "language": "python",
   "name": "python3"
  },
  "language_info": {
   "codemirror_mode": {
    "name": "ipython",
    "version": 3
   },
   "file_extension": ".py",
   "mimetype": "text/x-python",
   "name": "python",
   "nbconvert_exporter": "python",
   "pygments_lexer": "ipython3",
   "version": "3.6.6"
  }
 },
 "nbformat": 4,
 "nbformat_minor": 2
}
