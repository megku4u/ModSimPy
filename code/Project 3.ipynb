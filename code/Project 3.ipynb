{
 "cells": [
  {
   "cell_type": "markdown",
   "metadata": {},
   "source": [
    "# Santa Claus the Engineer!"
   ]
  },
  {
   "cell_type": "code",
   "execution_count": 42,
   "metadata": {},
   "outputs": [],
   "source": [
    "# Configure Jupyter so figures appear in the notebook\n",
    "%matplotlib inline\n",
    "\n",
    "# Configure Jupyter to display the assigned value after an assignment\n",
    "%config InteractiveShell.ast_node_interactivity='last_expr_or_assign'\n",
    "\n",
    "# import functions from the modsim.py module\n",
    "from modsim import *"
   ]
  },
  {
   "cell_type": "markdown",
   "metadata": {},
   "source": [
    "## Question:\n",
    "\n",
    "Suppose Santa is trying to speed up the already quick present-giving process on Christmas Eve. Instead of going to the roof of every building on Olin's campus, he decides to land on West Hall and launch all his presents to the tops of the other four buildings. He has a launcher that can launch presents at any velocity and angle that he desires (because Santa is an engineer).\n",
    "\n",
    "At what angle and final velocity will optimize Santa's needed force to launch his presents to all the other campus buildings?"
   ]
  },
  {
   "cell_type": "code",
   "execution_count": 43,
   "metadata": {},
   "outputs": [],
   "source": [
    "#define units\n",
    "\n",
    "m = UNITS.meter\n",
    "s = UNITS.second\n",
    "kg = UNITS.kilogram\n",
    "feet = UNITS.feet\n",
    "inch = UNITS.inch\n",
    "degree = UNITS.degree\n",
    "N = UNITS.newton;"
   ]
  },
  {
   "cell_type": "markdown",
   "metadata": {},
   "source": [
    "Here are the heights of Olin's five buildings, according to the building plans. We decided to set the height of West Hall as our origin to provide clarity.  We also assumed that the buildings are all at the same elevation to make our building plan-reading lives a little easier.\n",
    "\n",
    "*Note: any variables pertaining to a building are assigned as \"variable_building\"*"
   ]
  },
  {
   "cell_type": "code",
   "execution_count": 44,
   "metadata": {},
   "outputs": [
    {
     "data": {
      "text/html": [
       "-1.2795249999999996 meter"
      ],
      "text/latex": [
       "$-1.2795249999999996 meter$"
      ],
      "text/plain": [
       "<Quantity(-1.2795249999999996, 'meter')>"
      ]
     },
     "execution_count": 44,
     "metadata": {},
     "output_type": "execute_result"
    }
   ],
   "source": [
    "height_WH = (53*feet + 1.625*inch).to(m) #16.196 m height of West Hall\n",
    "\n",
    "height_EH = (67*feet).to(m) - height_WH #20.422 m height of East Hall\n",
    "height_CC = (62*feet + 4* inch).to(m) - height_WH #18.992 m height of Campus Center\n",
    "height_MH = (54*feet + 5.375*inch).to(m) - height_WH #15.596 m height of Milas Hall\n",
    "height_AC =  (48*feet + 11.25*inch).to(m) - height_WH #14.916 m height of Academic Center"
   ]
  },
  {
   "cell_type": "markdown",
   "metadata": {},
   "source": [
    "... and the approximate distances between West Hall and the other four buildings (estimated using Google Maps)."
   ]
  },
  {
   "cell_type": "code",
   "execution_count": 45,
   "metadata": {},
   "outputs": [],
   "source": [
    "to_EH = 80.88*m\n",
    "to_MH = 108.69*m\n",
    "to_AC = 141.29*m\n",
    "to_CC = 72.69*m;"
   ]
  },
  {
   "cell_type": "markdown",
   "metadata": {},
   "source": [
    "Now we need to create \"params\" and our System variable.  We'll start off by assuming Santa's launcher launches presents at a speed of 40m/s."
   ]
  },
  {
   "cell_type": "code",
   "execution_count": 5,
   "metadata": {},
   "outputs": [
    {
     "data": {
      "text/html": [
       "<div>\n",
       "<style scoped>\n",
       "    .dataframe tbody tr th:only-of-type {\n",
       "        vertical-align: middle;\n",
       "    }\n",
       "\n",
       "    .dataframe tbody tr th {\n",
       "        vertical-align: top;\n",
       "    }\n",
       "\n",
       "    .dataframe thead th {\n",
       "        text-align: right;\n",
       "    }\n",
       "</style>\n",
       "<table border=\"1\" class=\"dataframe\">\n",
       "  <thead>\n",
       "    <tr style=\"text-align: right;\">\n",
       "      <th></th>\n",
       "      <th>values</th>\n",
       "    </tr>\n",
       "  </thead>\n",
       "  <tbody>\n",
       "    <tr>\n",
       "      <th>x</th>\n",
       "      <td>0 meter</td>\n",
       "    </tr>\n",
       "    <tr>\n",
       "      <th>y</th>\n",
       "      <td>0 meter</td>\n",
       "    </tr>\n",
       "    <tr>\n",
       "      <th>g</th>\n",
       "      <td>9.81 meter / second ** 2</td>\n",
       "    </tr>\n",
       "    <tr>\n",
       "      <th>mass</th>\n",
       "      <td>1.0206 kilogram</td>\n",
       "    </tr>\n",
       "    <tr>\n",
       "      <th>height</th>\n",
       "      <td>0.3048 meter</td>\n",
       "    </tr>\n",
       "    <tr>\n",
       "      <th>length</th>\n",
       "      <td>0.3048 meter</td>\n",
       "    </tr>\n",
       "    <tr>\n",
       "      <th>width</th>\n",
       "      <td>0.3048 meter</td>\n",
       "    </tr>\n",
       "    <tr>\n",
       "      <th>rho</th>\n",
       "      <td>1.2 kilogram / meter ** 3</td>\n",
       "    </tr>\n",
       "    <tr>\n",
       "      <th>C_d</th>\n",
       "      <td>0.8</td>\n",
       "    </tr>\n",
       "    <tr>\n",
       "      <th>angle</th>\n",
       "      <td>45 degree</td>\n",
       "    </tr>\n",
       "    <tr>\n",
       "      <th>velocity</th>\n",
       "      <td>40.0 meter / second</td>\n",
       "    </tr>\n",
       "    <tr>\n",
       "      <th>t_end</th>\n",
       "      <td>100 second</td>\n",
       "    </tr>\n",
       "    <tr>\n",
       "      <th>h_end</th>\n",
       "      <td>0 meter</td>\n",
       "    </tr>\n",
       "    <tr>\n",
       "      <th>d_end</th>\n",
       "      <td>10 meter</td>\n",
       "    </tr>\n",
       "  </tbody>\n",
       "</table>\n",
       "</div>"
      ],
      "text/plain": [
       "x                             0 meter\n",
       "y                             0 meter\n",
       "g            9.81 meter / second ** 2\n",
       "mass                  1.0206 kilogram\n",
       "height                   0.3048 meter\n",
       "length                   0.3048 meter\n",
       "width                    0.3048 meter\n",
       "rho         1.2 kilogram / meter ** 3\n",
       "C_d                               0.8\n",
       "angle                       45 degree\n",
       "velocity          40.0 meter / second\n",
       "t_end                      100 second\n",
       "h_end                         0 meter\n",
       "d_end                        10 meter\n",
       "dtype: object"
      ]
     },
     "execution_count": 5,
     "metadata": {},
     "output_type": "execute_result"
    }
   ],
   "source": [
    "#create parameters\n",
    "params = Params(x = 0 * m, \n",
    "                y = 0 * m,\n",
    "                g = 9.81 * m/s**2,\n",
    "                mass = 1.0206 * kg,\n",
    "                height = 0.3048 * m,\n",
    "                length = 0.3048 * m,\n",
    "                width = 0.3048 * m,\n",
    "                rho = 1.2 * kg/m**3,\n",
    "                C_d = 0.8,\n",
    "                angle = 45 * degree,\n",
    "                velocity = 40 * m / s,\n",
    "                t_end = 100*s,\n",
    "                h_end = 0*m,\n",
    "                d_end = 10*m)"
   ]
  },
  {
   "cell_type": "markdown",
   "metadata": {},
   "source": [
    "Now, we'll write functions that will create the system object, calculate the force of drag on the present, and compute the derivates of the state variables (like velocity and acceleration)."
   ]
  },
  {
   "cell_type": "code",
   "execution_count": 6,
   "metadata": {},
   "outputs": [],
   "source": [
    "#create our system object\n",
    "\n",
    "def make_system(params):\n",
    "    \"\"\"Make a system object.\n",
    "    \n",
    "    params: Params object with angle, velocity, x, y,\n",
    "               diameter, duration, g, mass, rho, and C_d\n",
    "               \n",
    "    returns: System object\n",
    "    \"\"\"\n",
    "    unpack(params)\n",
    "    \n",
    "    # convert angle to degrees\n",
    "    theta = np.deg2rad(angle)\n",
    "    \n",
    "    # compute x and y components of velocity\n",
    "    vx, vy = pol2cart(theta, velocity)\n",
    "    \n",
    "    # make the initial state\n",
    "    init = State(x=x, y=y, vx=vx, vy=vy)\n",
    "    \n",
    "    # compute area from diameter\n",
    "    area = height*length*height\n",
    "    \n",
    "    return System(params, init=init, area=area)"
   ]
  },
  {
   "cell_type": "markdown",
   "metadata": {},
   "source": [
    "We also wrote drag and slope functions to update forces as the present moved through the air."
   ]
  },
  {
   "cell_type": "code",
   "execution_count": 7,
   "metadata": {},
   "outputs": [],
   "source": [
    "def drag_force(V, system):\n",
    "    \"\"\"Computes drag force in the opposite direction of `V`.\n",
    "    \n",
    "    V: velocity\n",
    "    system: System object with rho, C_d, area\n",
    "    \n",
    "    returns: Vector drag force\n",
    "    \"\"\"\n",
    "    unpack(system)\n",
    "    mag = -rho * V.mag**2 * C_d * area / 2\n",
    "    direction = V.hat()\n",
    "    f_drag = mag * direction\n",
    "    return f_drag"
   ]
  },
  {
   "cell_type": "code",
   "execution_count": 8,
   "metadata": {},
   "outputs": [],
   "source": [
    "def slope_func(state, t, system):\n",
    "    \"\"\"Computes derivatives of the state variables.\n",
    "    \n",
    "    state: State (x, y, x velocity, y velocity)\n",
    "    t: time\n",
    "    system: System object with g, rho, C_d, area, mass\n",
    "    \n",
    "    returns: sequence (vx, vy, ax, ay)\n",
    "    \"\"\"\n",
    "    x, y, vx, vy = state\n",
    "    unpack(system)\n",
    "\n",
    "    V = Vector(vx, vy)    \n",
    "    a_drag = drag_force(V, system) / mass\n",
    "    a_grav = Vector(0, -g)\n",
    "    \n",
    "    a = a_grav + a_drag\n",
    "    \n",
    "    return vx, vy, a.x, a.y"
   ]
  },
  {
   "cell_type": "markdown",
   "metadata": {},
   "source": [
    "Next, we implement the measured data of the buildings and figure out what the optimal speed and angle are for Santa if he launched presents from West Hall to the other four buildings on campus. First, we'll create new *params* objects for each building in relation to West Hall."
   ]
  },
  {
   "cell_type": "code",
   "execution_count": 41,
   "metadata": {},
   "outputs": [],
   "source": [
    "params_EH = Params(params, h_end=height_EH, d_end=to_EH);\n",
    "params_MH = Params(params, h_end=height_MH, d_end=to_MH);\n",
    "params_AC = Params(params, h_end=height_AC, d_end=to_AC);\n",
    "params_CC = Params(params, h_end=height_CC, d_end=to_CC);"
   ]
  },
  {
   "cell_type": "markdown",
   "metadata": {},
   "source": [
    "We created *event_func*, which stops the solver when the projectile reaches the building. Then we wrote *height_func*, which calculates the height of the projectile when the it reaches the building."
   ]
  },
  {
   "cell_type": "code",
   "execution_count": 10,
   "metadata": {},
   "outputs": [],
   "source": [
    "def event_func(state, t, system):\n",
    "    \"\"\"Stop when the x coordinate is zero.\n",
    "        When the object reaches the desired horizontal distance, the solver will end.\n",
    "    \n",
    "    state: State object\n",
    "    t: time\n",
    "    system: System object\n",
    "    \n",
    "    returns: x coordinate\n",
    "    \"\"\"\n",
    "    unpack(system)\n",
    "    x, y, vx, vy = state\n",
    "    return x-d_end\n",
    "\n",
    "def height_func(angle, params):  \n",
    "    \"\"\"Computes height for a given launch angle.\n",
    "    \n",
    "    angle: launch angle in degrees\n",
    "    params: Params object\n",
    "    \n",
    "    returns: height in meters\n",
    "    \"\"\"\n",
    "    params = Params(params, angle=angle)\n",
    "    system = make_system(params)\n",
    "    results, details = run_ode_solver(system, slope_func, events=event_func)\n",
    "    y_dist = get_last_value(results.y) * m\n",
    "    return y_dist"
   ]
  },
  {
   "cell_type": "code",
   "execution_count": 11,
   "metadata": {},
   "outputs": [
    {
     "data": {
      "text/html": [
       "4.21740152548944 meter"
      ],
      "text/latex": [
       "$4.21740152548944 meter$"
      ],
      "text/plain": [
       "<Quantity(4.21740152548944, 'meter')>"
      ]
     },
     "execution_count": 11,
     "metadata": {},
     "output_type": "execute_result"
    }
   ],
   "source": [
    "#testing the height function to see if it works using hand-calculated values\n",
    "height_func(38.59*degree, Params(params_EH, velocity = 48.9*m/s))"
   ]
  },
  {
   "cell_type": "markdown",
   "metadata": {},
   "source": [
    "We then created an *error_func* to calculate the difference between the final height of the projectile and the height of the building.  Since we wanted to save the measure of the angle at which the projectile was launched without explicitly returning it, we assign the angle measure to the **global** variable *opt_angle*. "
   ]
  },
  {
   "cell_type": "code",
   "execution_count": 12,
   "metadata": {},
   "outputs": [],
   "source": [
    "opt_angle = 45*degree\n",
    "'''\n",
    "opt_angle is a global variable. \n",
    "\n",
    "We are using it to temporarily store the optimal angle value so we can run the simulation of the present's trajectory\n",
    "    after we solve for the optimal velocity.\n",
    "'''\n",
    "\n",
    "def error_func(v, params):\n",
    "    \"\"\"Finds the difference between the current height and the building height.\n",
    "    \n",
    "    v: Velocity variable\n",
    "    params: Params object\n",
    "    \n",
    "    returns: difference in height in meters\n",
    "    \"\"\"\n",
    "    \n",
    "    this_params = Params(params, velocity=v)\n",
    "    optimal_height = max_bounded(height_func, [0,90], this_params)\n",
    "    global opt_angle\n",
    "    opt_angle = optimal_height.x*degree\n",
    "    height = optimal_height.fun\n",
    "    return height - params.h_end"
   ]
  },
  {
   "cell_type": "markdown",
   "metadata": {},
   "source": [
    "Now we calculate the optimal angle and velocity using *fsolve*."
   ]
  },
  {
   "cell_type": "code",
   "execution_count": 13,
   "metadata": {},
   "outputs": [
    {
     "name": "stdout",
     "output_type": "stream",
     "text": [
      "48.903586728999755 meter / second 38.5945570483135 degree\n"
     ]
    }
   ],
   "source": [
    "res = fsolve(error_func, 45*m/s, params_EH);\n",
    "v_EH = res[0]*m/s\n",
    "angle_EH = opt_angle\n",
    "print(v_EH, angle_EH)"
   ]
  },
  {
   "cell_type": "code",
   "execution_count": 14,
   "metadata": {
    "scrolled": true
   },
   "outputs": [
    {
     "data": {
      "text/html": [
       "-5.60440582830779e-13 meter"
      ],
      "text/latex": [
       "$-5.60440582830779e-13 meter$"
      ],
      "text/plain": [
       "<Quantity(-5.60440582830779e-13, 'meter')>"
      ]
     },
     "execution_count": 14,
     "metadata": {},
     "output_type": "execute_result"
    }
   ],
   "source": [
    "params_EH = Params(params_EH, velocity=v_EH, angle=angle_EH)\n",
    "system_EH = make_system(params_EH);\n",
    "error_func(params_EH.velocity, params_EH)"
   ]
  },
  {
   "cell_type": "code",
   "execution_count": 15,
   "metadata": {},
   "outputs": [
    {
     "name": "stdout",
     "output_type": "stream",
     "text": [
      "                  x          y         vx         vy\n",
      "0.000000   0.000000   0.000000  38.222052  30.506319\n",
      "0.000029   0.001105   0.000882  38.221333  30.505461\n",
      "0.000318   0.012157   0.009702  38.214136  30.496880\n",
      "0.003210   0.122559   0.097768  38.142331  30.411235\n",
      "0.032127   1.215321   0.964961  37.440232  29.570373\n",
      "0.321303  11.164412   8.434329  31.723049  22.433285\n",
      "0.821303  25.307000  17.295035  25.397709  13.538004\n",
      "1.321303  36.949241  22.340782  21.444221   6.902563\n",
      "1.821303  46.951916  24.388007  18.712035   1.428136\n",
      "2.321303  55.768288  23.881398  16.629582  -3.362095\n",
      "2.821303  63.635490  21.108846  14.875849  -7.649678\n",
      "3.321303  70.669477  16.310611  13.277561 -11.462173\n",
      "3.821303  76.926701   9.730686  11.763183 -14.771028\n",
      "4.172724  80.880000   4.178707  10.742045 -16.782985\n"
     ]
    }
   ],
   "source": [
    "resultsEH, detailsEH = run_ode_solver(system_EH, slope_func, method=\"RK45\",max_step = 0.5*s, events = event_func)\n",
    "print(resultsEH)"
   ]
  },
  {
   "cell_type": "code",
   "execution_count": 16,
   "metadata": {
    "scrolled": true
   },
   "outputs": [
    {
     "data": {
      "image/png": "[encoded data removed]",
      "text/plain": [
       "<Figure size 432x288 with 1 Axes>"
      ]
     },
     "metadata": {},
     "output_type": "display_data"
    }
   ],
   "source": [
    "plot(resultsEH.x,resultsEH.y)\n",
    "decorate(xlabel='X-position (m)',\n",
    "         ylabel='Y-position (m)',\n",
    "         title='Trajectory of Present from West Hall to East Hall',\n",
    "         legend=False)"
   ]
  },
  {
   "cell_type": "markdown",
   "metadata": {},
   "source": [
    "Now that we know that we were successful with launching presents to East Hall, we can repeat the process with the three other buildings on campus."
   ]
  },
  {
   "cell_type": "code",
   "execution_count": 17,
   "metadata": {},
   "outputs": [
    {
     "name": "stdout",
     "output_type": "stream",
     "text": [
      "43.177482027291745 meter / second 39.090930340504784 degree\n"
     ]
    }
   ],
   "source": [
    "res2 = fsolve(error_func, 45*m/s, params_CC);\n",
    "v_CC = res2[0]*m/s\n",
    "angle_CC = opt_angle\n",
    "print(v_CC, angle_CC)"
   ]
  },
  {
   "cell_type": "code",
   "execution_count": 18,
   "metadata": {},
   "outputs": [
    {
     "data": {
      "text/html": [
       "-5.640146127916523e-10 meter"
      ],
      "text/latex": [
       "$-5.640146127916523e-10 meter$"
      ],
      "text/plain": [
       "<Quantity(-5.640146127916523e-10, 'meter')>"
      ]
     },
     "execution_count": 18,
     "metadata": {},
     "output_type": "execute_result"
    }
   ],
   "source": [
    "params_CC = Params(params_CC, velocity=v_CC, angle=angle_CC)\n",
    "system_CC = make_system(params_CC);\n",
    "error_func(params_CC.velocity, params_CC)"
   ]
  },
  {
   "cell_type": "code",
   "execution_count": 19,
   "metadata": {},
   "outputs": [
    {
     "data": {
      "image/png": "[encoded data removed]",
      "text/plain": [
       "<Figure size 432x288 with 1 Axes>"
      ]
     },
     "metadata": {},
     "output_type": "display_data"
    }
   ],
   "source": [
    "resultsCC, detailsCC = run_ode_solver(system_CC, slope_func, method=\"RK45\", max_step=0.5*s, events = event_func)\n",
    "detailsCC.message\n",
    "plot(resultsCC.x, resultsCC.y)\n",
    "decorate(xlabel='X-position (m)',\n",
    "         ylabel='Y-position (m)',\n",
    "         title='Trajectory of Present from West Hall to the Campus Center',\n",
    "         legend=False)"
   ]
  },
  {
   "cell_type": "code",
   "execution_count": 20,
   "metadata": {},
   "outputs": [
    {
     "name": "stdout",
     "output_type": "stream",
     "text": [
      "68.39087073698052 meter / second 34.51096663527482 degree\n"
     ]
    }
   ],
   "source": [
    "res3 = fsolve(error_func, 45*m/s, params_MH);\n",
    "v_MH = res3[0]*m/s\n",
    "angle_MH = opt_angle\n",
    "print(v_MH, angle_MH)"
   ]
  },
  {
   "cell_type": "code",
   "execution_count": 21,
   "metadata": {},
   "outputs": [
    {
     "data": {
      "text/html": [
       "-2.4183921532028307e-09 meter"
      ],
      "text/latex": [
       "$-2.4183921532028307e-09 meter$"
      ],
      "text/plain": [
       "<Quantity(-2.4183921532028307e-09, 'meter')>"
      ]
     },
     "execution_count": 21,
     "metadata": {},
     "output_type": "execute_result"
    }
   ],
   "source": [
    "params_MH = Params(params_MH, velocity=v_MH, angle=angle_MH)\n",
    "system_MH = make_system(params_MH)\n",
    "error_func(params_MH.velocity, params_MH)"
   ]
  },
  {
   "cell_type": "code",
   "execution_count": 22,
   "metadata": {},
   "outputs": [
    {
     "data": {
      "image/png": "[encoded data removed]",
      "text/plain": [
       "<Figure size 432x288 with 1 Axes>"
      ]
     },
     "metadata": {},
     "output_type": "display_data"
    }
   ],
   "source": [
    "resultsMH, detailsMH = run_ode_solver(system_MH, slope_func, method=\"RK45\", max_step=0.5*s, events = event_func)\n",
    "detailsMH.message\n",
    "plot(resultsMH.x, resultsMH.y)\n",
    "decorate(xlabel='X-position (m)',\n",
    "         ylabel='Y-position (m)',\n",
    "         title='Trajectory of Present from West Hall to Milas Hall',\n",
    "         legend=False)"
   ]
  },
  {
   "cell_type": "code",
   "execution_count": 31,
   "metadata": {},
   "outputs": [
    {
     "name": "stdout",
     "output_type": "stream",
     "text": [
      "102.49559836574711 meter / second 31.027757597441195 degree\n"
     ]
    }
   ],
   "source": [
    "res4 = fsolve(error_func, 45*m/s, params_AC);\n",
    "v_AC = res4[0]*m/s\n",
    "angle_AC = opt_angle\n",
    "print(v_AC, angle_AC)"
   ]
  },
  {
   "cell_type": "code",
   "execution_count": 32,
   "metadata": {},
   "outputs": [
    {
     "name": "stdout",
     "output_type": "stream",
     "text": [
      "x                                     0 meter\n",
      "y                                     0 meter\n",
      "g                    9.81 meter / second ** 2\n",
      "mass                          1.0206 kilogram\n",
      "height                           0.3048 meter\n",
      "length                           0.3048 meter\n",
      "width                            0.3048 meter\n",
      "rho                 1.2 kilogram / meter ** 3\n",
      "C_d                                       0.8\n",
      "angle               31.027757597441195 degree\n",
      "velocity    102.49559836574711 meter / second\n",
      "t_end                              100 second\n",
      "h_end               -1.2795249999999996 meter\n",
      "d_end                            141.29 meter\n",
      "dtype: object\n"
     ]
    }
   ],
   "source": [
    "params_AC = Params(params, velocity=v_AC, angle=angle_AC, h_end=height_AC, d_end=to_AC)\n",
    "system_AC = make_system(params_AC)\n",
    "error_func(params_AC.velocity, params_AC)\n",
    "print(params_AC)"
   ]
  },
  {
   "cell_type": "code",
   "execution_count": 33,
   "metadata": {
    "scrolled": true
   },
   "outputs": [
    {
     "data": {
      "image/png": "[encoded data removed]",
      "text/plain": [
       "<Figure size 432x288 with 1 Axes>"
      ]
     },
     "metadata": {},
     "output_type": "display_data"
    }
   ],
   "source": [
    "resultsAC, detailsAC = run_ode_solver(system_AC, slope_func, method=\"RK45\", max_step=0.5*s, events = event_func)\n",
    "detailsAC.message\n",
    "plot(resultsAC.x, resultsAC.y)\n",
    "decorate(xlabel='X-position (m)',\n",
    "         ylabel='Y-position (m)',\n",
    "         title='Trajectory of Present from West Hall to the Academic Center',\n",
    "         legend=False)"
   ]
  },
  {
   "cell_type": "code",
   "execution_count": 34,
   "metadata": {},
   "outputs": [],
   "source": [
    "def compute_force(params):\n",
    "    \"\"\"calculates force to push spring in imaginary present-launcher.\n",
    "    \n",
    "    params: Params object\n",
    "    \n",
    "    returns: force\n",
    "    \"\"\"\n",
    "    unpack(params)\n",
    "    \n",
    "    k_constant = (mass * velocity**2) / (1*m**2)\n",
    "    force_to_push_spring = k_constant * (1.0668*m) \n",
    "    return force_to_push_spring"
   ]
  },
  {
   "cell_type": "code",
   "execution_count": 35,
   "metadata": {
    "scrolled": true
   },
   "outputs": [
    {
     "data": {
      "text/html": [
       "2603.874187419104 newton"
      ],
      "text/latex": [
       "$2603.874187419104 newton$"
      ],
      "text/plain": [
       "<Quantity(2603.874187419104, 'newton')>"
      ]
     },
     "execution_count": 35,
     "metadata": {},
     "output_type": "execute_result"
    }
   ],
   "source": [
    "force_EH = compute_force(params_EH).to(N)"
   ]
  },
  {
   "cell_type": "code",
   "execution_count": 36,
   "metadata": {},
   "outputs": [
    {
     "data": {
      "text/html": [
       "5092.544553452888 newton"
      ],
      "text/latex": [
       "$5092.544553452888 newton$"
      ],
      "text/plain": [
       "<Quantity(5092.544553452888, 'newton')>"
      ]
     },
     "execution_count": 36,
     "metadata": {},
     "output_type": "execute_result"
    }
   ],
   "source": [
    "force_MH = compute_force(params_MH).to(N)"
   ]
  },
  {
   "cell_type": "code",
   "execution_count": 37,
   "metadata": {},
   "outputs": [
    {
     "data": {
      "text/html": [
       "2029.7997522162752 newton"
      ],
      "text/latex": [
       "$2029.7997522162752 newton$"
      ],
      "text/plain": [
       "<Quantity(2029.7997522162752, 'newton')>"
      ]
     },
     "execution_count": 37,
     "metadata": {},
     "output_type": "execute_result"
    }
   ],
   "source": [
    "force_CC = compute_force(params_CC).to(N)"
   ]
  },
  {
   "cell_type": "code",
   "execution_count": 38,
   "metadata": {},
   "outputs": [
    {
     "data": {
      "text/html": [
       "11437.971270806436 newton"
      ],
      "text/latex": [
       "$11437.971270806436 newton$"
      ],
      "text/plain": [
       "<Quantity(11437.971270806436, 'newton')>"
      ]
     },
     "execution_count": 38,
     "metadata": {},
     "output_type": "execute_result"
    }
   ],
   "source": [
    "force_AC = compute_force(params_AC).to(N)"
   ]
  },
  {
   "cell_type": "code",
   "execution_count": null,
   "metadata": {},
   "outputs": [],
   "source": []
  }
 ],
 "metadata": {
  "kernelspec": {
   "display_name": "Python 3",
   "language": "python",
   "name": "python3"
  },
  "language_info": {
   "codemirror_mode": {
    "name": "ipython",
    "version": 3
   },
   "file_extension": ".py",
   "mimetype": "text/x-python",
   "name": "python",
   "nbconvert_exporter": "python",
   "pygments_lexer": "ipython3",
   "version": "3.6.6"
  }
 },
 "nbformat": 4,
 "nbformat_minor": 2
}
