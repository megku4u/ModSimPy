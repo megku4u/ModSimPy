{
 "cells": [
  {
   "cell_type": "markdown",
   "metadata": {},
   "source": [
    "# HIV Model\n",
    "\n",
    "Megan Ku"
   ]
  },
  {
   "cell_type": "code",
   "execution_count": 11,
   "metadata": {},
   "outputs": [],
   "source": [
    "# Configure Jupyter so figures appear in the notebook\n",
    "%matplotlib inline\n",
    "\n",
    "# Configure Jupyter to display the assigned value after an assignment\n",
    "%config InteractiveShell.ast_node_interactivity='last_expr_or_assign'\n",
    "\n",
    "# import functions from the modsim.py module\n",
    "from modsim import *"
   ]
  },
  {
   "cell_type": "code",
   "execution_count": 12,
   "metadata": {},
   "outputs": [
    {
     "data": {
      "text/html": [
       "<div>\n",
       "<style scoped>\n",
       "    .dataframe tbody tr th:only-of-type {\n",
       "        vertical-align: middle;\n",
       "    }\n",
       "\n",
       "    .dataframe tbody tr th {\n",
       "        vertical-align: top;\n",
       "    }\n",
       "\n",
       "    .dataframe thead th {\n",
       "        text-align: right;\n",
       "    }\n",
       "</style>\n",
       "<table border=\"1\" class=\"dataframe\">\n",
       "  <thead>\n",
       "    <tr style=\"text-align: right;\">\n",
       "      <th></th>\n",
       "      <th>values</th>\n",
       "    </tr>\n",
       "  </thead>\n",
       "  <tbody>\n",
       "    <tr>\n",
       "      <th>R</th>\n",
       "      <td>2.000000e+02</td>\n",
       "    </tr>\n",
       "    <tr>\n",
       "      <th>L</th>\n",
       "      <td>0.000000e+00</td>\n",
       "    </tr>\n",
       "    <tr>\n",
       "      <th>E</th>\n",
       "      <td>0.000000e+00</td>\n",
       "    </tr>\n",
       "    <tr>\n",
       "      <th>V</th>\n",
       "      <td>4.000000e-07</td>\n",
       "    </tr>\n",
       "  </tbody>\n",
       "</table>\n",
       "</div>"
      ],
      "text/plain": [
       "R    2.000000e+02\n",
       "L    0.000000e+00\n",
       "E    0.000000e+00\n",
       "V    4.000000e-07\n",
       "dtype: float64"
      ]
     },
     "execution_count": 12,
     "metadata": {},
     "output_type": "execute_result"
    }
   ],
   "source": [
    "#Define initial state variables\n",
    "\n",
    "R = 200\n",
    "L = 0\n",
    "E = 0\n",
    "V = 0.0000004\n",
    "\n",
    "#time step - don't use 1!\n",
    "dt = 0.01\n",
    "t_0 = 0\n",
    "t_end = 120\n",
    "\n",
    "\n",
    "\n",
    "'''#Just a function that I put here and there when I want to reset the state\n",
    "def reset_state():\n",
    "    state = State(R = 200,\n",
    "                  L = 0,\n",
    "                  E = 0,\n",
    "                  V = 0.0000004)\n",
    "\n",
    "    #R = activated, uninfected CD4 lymphocytes\n",
    "    #L = latently infected cells\n",
    "    #E = actively infected cells\n",
    "    #V = Virions\n",
    "\n",
    "    return state\n",
    "init = reset_state()'''\n",
    "\n",
    "init = State(R = 200,\n",
    "              L = 0,\n",
    "              E = 0,\n",
    "              V = 0.0000004)"
   ]
  },
  {
   "cell_type": "code",
   "execution_count": 13,
   "metadata": {},
   "outputs": [
    {
     "data": {
      "text/plain": [
       "100"
      ]
     },
     "execution_count": 13,
     "metadata": {},
     "output_type": "execute_result"
    }
   ],
   "source": [
    "Γ = 1.36\n",
    "μ = 1.36 * (10 ** (-3))\n",
    "τ = 0.2\n",
    "β = 0.00027\n",
    "ρ = 0.1\n",
    "α = 3.6 * (10 ** (-2))\n",
    "σ = 2\n",
    "δ = 0.33\n",
    "π = 100\n",
    "#values given in HIV paper"
   ]
  },
  {
   "cell_type": "code",
   "execution_count": 52,
   "metadata": {},
   "outputs": [
    {
     "data": {
      "text/html": [
       "<div>\n",
       "<style scoped>\n",
       "    .dataframe tbody tr th:only-of-type {\n",
       "        vertical-align: middle;\n",
       "    }\n",
       "\n",
       "    .dataframe tbody tr th {\n",
       "        vertical-align: top;\n",
       "    }\n",
       "\n",
       "    .dataframe thead th {\n",
       "        text-align: right;\n",
       "    }\n",
       "</style>\n",
       "<table border=\"1\" class=\"dataframe\">\n",
       "  <thead>\n",
       "    <tr style=\"text-align: right;\">\n",
       "      <th></th>\n",
       "      <th>values</th>\n",
       "    </tr>\n",
       "  </thead>\n",
       "  <tbody>\n",
       "    <tr>\n",
       "      <th>init</th>\n",
       "      <td>R    2.000000e+02\n",
       "L    0.000000e+00\n",
       "E    0.000...</td>\n",
       "    </tr>\n",
       "    <tr>\n",
       "      <th>t_0</th>\n",
       "      <td>0</td>\n",
       "    </tr>\n",
       "    <tr>\n",
       "      <th>t_end</th>\n",
       "      <td>120</td>\n",
       "    </tr>\n",
       "    <tr>\n",
       "      <th>dt</th>\n",
       "      <td>0.01</td>\n",
       "    </tr>\n",
       "    <tr>\n",
       "      <th>Γ</th>\n",
       "      <td>1.36</td>\n",
       "    </tr>\n",
       "    <tr>\n",
       "      <th>μ</th>\n",
       "      <td>0.00136</td>\n",
       "    </tr>\n",
       "    <tr>\n",
       "      <th>τ</th>\n",
       "      <td>0.2</td>\n",
       "    </tr>\n",
       "    <tr>\n",
       "      <th>β</th>\n",
       "      <td>0.00027</td>\n",
       "    </tr>\n",
       "    <tr>\n",
       "      <th>ρ</th>\n",
       "      <td>0.1</td>\n",
       "    </tr>\n",
       "    <tr>\n",
       "      <th>α</th>\n",
       "      <td>0.036</td>\n",
       "    </tr>\n",
       "    <tr>\n",
       "      <th>σ</th>\n",
       "      <td>2</td>\n",
       "    </tr>\n",
       "    <tr>\n",
       "      <th>δ</th>\n",
       "      <td>0.33</td>\n",
       "    </tr>\n",
       "    <tr>\n",
       "      <th>π</th>\n",
       "      <td>100</td>\n",
       "    </tr>\n",
       "  </tbody>\n",
       "</table>\n",
       "</div>"
      ],
      "text/plain": [
       "init     R    2.000000e+02\n",
       "L    0.000000e+00\n",
       "E    0.000...\n",
       "t_0                                                      0\n",
       "t_end                                                  120\n",
       "dt                                                    0.01\n",
       "Γ                                                     1.36\n",
       "μ                                                  0.00136\n",
       "τ                                                      0.2\n",
       "β                                                  0.00027\n",
       "ρ                                                      0.1\n",
       "α                                                    0.036\n",
       "σ                                                        2\n",
       "δ                                                     0.33\n",
       "π                                                      100\n",
       "dtype: object"
      ]
     },
     "execution_count": 52,
     "metadata": {},
     "output_type": "execute_result"
    }
   ],
   "source": [
    "'''\n",
    "dR_dt = (Γ * τ) - (μ * R) - (β * R * V)\n",
    "dL_dt = (ρ * β * R * V) - (μ * L) - (α * L)\n",
    "dE_dt = (1 - ρ) * (β * R * V) + (α * L) - (δ * E)\n",
    "dV_dt = (π * E) - (σ * V)\n",
    "'''\n",
    "\n",
    "#defining the system (the rates for the model)\n",
    "system = System(init=init,\n",
    "                t_0=t_0,\n",
    "                t_end=t_end,\n",
    "                dt = dt,\n",
    "                Γ=Γ, \n",
    "                μ=μ,\n",
    "                τ=τ,\n",
    "                β=β,\n",
    "                ρ=ρ,\n",
    "                α=α,\n",
    "                σ=σ,\n",
    "                δ=δ,\n",
    "                π=π)\n"
   ]
  },
  {
   "cell_type": "code",
   "execution_count": 59,
   "metadata": {},
   "outputs": [],
   "source": [
    "def update_func(state, t, system):\n",
    "    unpack(system)\n",
    "    unpack(state)\n",
    "    \n",
    "    dR_dt = (Γ * τ) - (μ * R) - (β * R * V)\n",
    "    dL_dt = (ρ * β * R * V) - (μ * L) - (α * L)\n",
    "    dE_dt = (1 - ρ) * (β * R * V) + (α * L) - (δ * E)\n",
    "    dV_dt = (π * E) - (σ * V)\n",
    "    \n",
    "    newR = R + dR_dt * dt\n",
    "    newL = L + dL_dt * dt\n",
    "    newE = E + dE_dt * dt\n",
    "    newV = V + dV_dt * dt\n",
    "\n",
    "    return State(R = newR, L = newL, E = newE, V = newV)\n",
    "    '''\n",
    "    Updates the state variable\n",
    "    state = State var\n",
    "    system = System var\n",
    "    newR = new value for R\n",
    "    newL = new value for L\n",
    "    newE = new value for E\n",
    "    newV = new value for V\n",
    "    output:state variable with updated values\n",
    "        \n",
    "    '''"
   ]
  },
  {
   "cell_type": "code",
   "execution_count": 60,
   "metadata": {},
   "outputs": [
    {
     "data": {
      "text/html": [
       "<div>\n",
       "<style scoped>\n",
       "    .dataframe tbody tr th:only-of-type {\n",
       "        vertical-align: middle;\n",
       "    }\n",
       "\n",
       "    .dataframe tbody tr th {\n",
       "        vertical-align: top;\n",
       "    }\n",
       "\n",
       "    .dataframe thead th {\n",
       "        text-align: right;\n",
       "    }\n",
       "</style>\n",
       "<table border=\"1\" class=\"dataframe\">\n",
       "  <thead>\n",
       "    <tr style=\"text-align: right;\">\n",
       "      <th></th>\n",
       "      <th>values</th>\n",
       "    </tr>\n",
       "  </thead>\n",
       "  <tbody>\n",
       "    <tr>\n",
       "      <th>R</th>\n",
       "      <td>2.000000e+02</td>\n",
       "    </tr>\n",
       "    <tr>\n",
       "      <th>L</th>\n",
       "      <td>2.160000e-11</td>\n",
       "    </tr>\n",
       "    <tr>\n",
       "      <th>E</th>\n",
       "      <td>1.944000e-10</td>\n",
       "    </tr>\n",
       "    <tr>\n",
       "      <th>V</th>\n",
       "      <td>3.920000e-07</td>\n",
       "    </tr>\n",
       "  </tbody>\n",
       "</table>\n",
       "</div>"
      ],
      "text/plain": [
       "R    2.000000e+02\n",
       "L    2.160000e-11\n",
       "E    1.944000e-10\n",
       "V    3.920000e-07\n",
       "dtype: float64"
      ]
     },
     "execution_count": 60,
     "metadata": {},
     "output_type": "execute_result"
    }
   ],
   "source": [
    "#state = reset_state()\n",
    "sample = update_func(init, t_0, system)\n",
    "#checking to make sure it works!"
   ]
  },
  {
   "cell_type": "code",
   "execution_count": 61,
   "metadata": {},
   "outputs": [],
   "source": [
    "def run_simulation(state, system):    \n",
    "    time_frame = TimeFrame(columns=state.index)\n",
    "    time_frame.row[0] = state \n",
    "    for i in linrange(system.t_0, system.t_end, system.dt):\n",
    "        time_frame.row[i+system.dt] = update_func(time_frame.row[i], t_0, system)\n",
    "    return time_frame\n",
    "    '''\n",
    "    Runs the HIV infection simulation\n",
    "    state = State variable\n",
    "    system = System variable\n",
    "    times = integer; duration of infection period\n",
    "    \n",
    "    returns TimeFrame\n",
    "    '''"
   ]
  },
  {
   "cell_type": "code",
   "execution_count": null,
   "metadata": {},
   "outputs": [],
   "source": [
    "HIV_attack = run_simulation(init, system)"
   ]
  },
  {
   "cell_type": "code",
   "execution_count": null,
   "metadata": {},
   "outputs": [],
   "source": [
    "HIV_attack.plot()"
   ]
  },
  {
   "cell_type": "code",
   "execution_count": null,
   "metadata": {},
   "outputs": [],
   "source": [
    "import numpy as np\n",
    "import matplotlib.pyplot as plt\n",
    "# need to import in order to graph on log scale"
   ]
  },
  {
   "cell_type": "code",
   "execution_count": null,
   "metadata": {},
   "outputs": [],
   "source": [
    "plot(HIV_attack.index, HIV_attack.R)\n",
    "#not graphed on log scale"
   ]
  },
  {
   "cell_type": "code",
   "execution_count": null,
   "metadata": {},
   "outputs": [],
   "source": [
    "plt.semilogy(HIV_attack.index, HIV_attack.L, \"orange\")\n",
    "decorate(ylim=[.1,100])\n",
    "#graph on semilog scale; y lim in place so y-axis doesnt go haywire"
   ]
  },
  {
   "cell_type": "code",
   "execution_count": null,
   "metadata": {},
   "outputs": [],
   "source": [
    "plt.semilogy(HIV_attack.index, HIV_attack.E, \"green\")\n",
    "decorate(ylim=[.1,100])\n",
    "#semilog plot, y-axis limit for same reason"
   ]
  },
  {
   "cell_type": "code",
   "execution_count": null,
   "metadata": {},
   "outputs": [],
   "source": [
    "plt.semilogy(HIV_attack.index, HIV_attack.V, \"red\")\n",
    "decorate(ylim=[.1,10000])\n",
    "#larger magnitude values, still semilog scale"
   ]
  },
  {
   "cell_type": "code",
   "execution_count": null,
   "metadata": {},
   "outputs": [],
   "source": [
    "def slope_func(state, t, system):\n",
    "    unpack(system)\n",
    "    R, L, E, V = state\n",
    "    \n",
    "    dR_dt = (Γ * τ) - (μ * R) - (β * R * V)\n",
    "    dL_dt = (ρ * β * R * V) - (μ * L) - (α * L)\n",
    "    dE_dt = (1 - ρ) * (β * R * V) + (α * L) - (δ * E)\n",
    "    dV_dt = (π * E) - (σ * V)\n",
    "\n",
    "    return dR_dt, dL_dt, dE_dt, dV_dt\n",
    "    '''\n",
    "    Updates the state variable\n",
    "    state = State var\n",
    "    system = System var\n",
    "\n",
    "    output:new rates\n",
    "    '''\n"
   ]
  },
  {
   "cell_type": "code",
   "execution_count": null,
   "metadata": {},
   "outputs": [],
   "source": [
    "results, details = run_ode_solver(system, slope_func, max_step = 0.1)\n",
    "details"
   ]
  },
  {
   "cell_type": "code",
   "execution_count": null,
   "metadata": {},
   "outputs": [],
   "source": [
    "results.plot()"
   ]
  },
  {
   "cell_type": "code",
   "execution_count": null,
   "metadata": {},
   "outputs": [],
   "source": []
  }
 ],
 "metadata": {
  "kernelspec": {
   "display_name": "Python 3",
   "language": "python",
   "name": "python3"
  },
  "language_info": {
   "codemirror_mode": {
    "name": "ipython",
    "version": 3
   },
   "file_extension": ".py",
   "mimetype": "text/x-python",
   "name": "python",
   "nbconvert_exporter": "python",
   "pygments_lexer": "ipython3",
   "version": "3.6.6"
  }
 },
 "nbformat": 4,
 "nbformat_minor": 2
}
